{
  "metadata": {
    "kernelspec": {
      "language": "python",
      "display_name": "Python 3",
      "name": "python3"
    },
    "language_info": {
      "name": "python",
      "version": "3.11.13",
      "mimetype": "text/x-python",
      "codemirror_mode": {
        "name": "ipython",
        "version": 3
      },
      "pygments_lexer": "ipython3",
      "nbconvert_exporter": "python",
      "file_extension": ".py"
    },
    "kaggle": {
      "accelerator": "none",
      "dataSources": [
        {
          "sourceId": 13139784,
          "sourceType": "datasetVersion",
          "datasetId": 8324683
        }
      ],
      "dockerImageVersionId": 31089,
      "isInternetEnabled": true,
      "language": "python",
      "sourceType": "notebook",
      "isGpuEnabled": false
    },
    "colab": {
      "name": "Hackathon 2",
      "provenance": [],
      "include_colab_link": true
    }
  },
  "nbformat_minor": 0,
  "nbformat": 4,
  "cells": [
    {
      "cell_type": "markdown",
      "metadata": {
        "id": "view-in-github",
        "colab_type": "text"
      },
      "source": [
        "<a href=\"https://colab.research.google.com/github/harshit089/ML_AI_HACKATHON-24/blob/main/Hackathon.ipynb\" target=\"_parent\"><img src=\"https://colab.research.google.com/assets/colab-badge.svg\" alt=\"Open In Colab\"/></a>"
      ]
    },
    {
      "source": [
        "# IMPORTANT: RUN THIS CELL IN ORDER TO IMPORT YOUR KAGGLE DATA SOURCES,\n",
        "# THEN FEEL FREE TO DELETE THIS CELL.\n",
        "# NOTE: THIS NOTEBOOK ENVIRONMENT DIFFERS FROM KAGGLE'S PYTHON\n",
        "# ENVIRONMENT SO THERE MAY BE MISSING LIBRARIES USED BY YOUR\n",
        "# NOTEBOOK.\n",
        "import kagglehub\n",
        "harshittomar089_dataset_path = kagglehub.dataset_download('harshittomar089/dataset')\n",
        "\n",
        "print('Data source import complete.')\n"
      ],
      "metadata": {
        "id": "wzDA7x7ksOO4"
      },
      "cell_type": "code",
      "outputs": [],
      "execution_count": null
    },
    {
      "cell_type": "code",
      "source": [
        "# This Python 3 environment comes with many helpful analytics libraries installed\n",
        "# It is defined by the kaggle/python Docker image: https://github.com/kaggle/docker-python\n",
        "# For example, here's several helpful packages to load\n",
        "\n",
        "import numpy as np # linear algebra\n",
        "import pandas as pd # data processing, CSV file I/O (e.g. pd.read_csv)\n",
        "\n",
        "# Input data files are available in the read-only \"../input/\" directory\n",
        "# For example, running this (by clicking run or pressing Shift+Enter) will list all files under the input directory\n",
        "\n",
        "import os\n",
        "for dirname, _, filenames in os.walk('/kaggle/input'):\n",
        "    for filename in filenames:\n",
        "        print(os.path.join(dirname, filename))\n",
        "\n",
        "# You can write up to 20GB to the current directory (/kaggle/working/) that gets preserved as output when you create a version using \"Save & Run All\"\n",
        "# You can also write temporary files to /kaggle/temp/, but they won't be saved outside of the current session"
      ],
      "metadata": {
        "_uuid": "8f2839f25d086af736a60e9eeb907d3b93b6e0e5",
        "_cell_guid": "b1076dfc-b9ad-4769-8c92-a6c4dae69d19",
        "trusted": true,
        "execution": {
          "iopub.status.busy": "2025-09-23T13:22:20.793584Z",
          "iopub.execute_input": "2025-09-23T13:22:20.79378Z",
          "iopub.status.idle": "2025-09-23T13:22:22.150996Z",
          "shell.execute_reply.started": "2025-09-23T13:22:20.793761Z",
          "shell.execute_reply": "2025-09-23T13:22:22.150273Z"
        },
        "id": "DAzHOgy4sOO6",
        "outputId": "d0f2b8c8-0495-428b-83d2-cf7238b5c076"
      },
      "outputs": [
        {
          "name": "stdout",
          "text": "/kaggle/input/dataset/Train.csv\n/kaggle/input/dataset/Test.csv\n",
          "output_type": "stream"
        }
      ],
      "execution_count": null
    },
    {
      "cell_type": "code",
      "source": [
        "train_df = pd.read_csv(\"/kaggle/input/dataset/Train.csv\")\n"
      ],
      "metadata": {
        "trusted": true,
        "execution": {
          "iopub.status.busy": "2025-09-23T13:22:22.15287Z",
          "iopub.execute_input": "2025-09-23T13:22:22.153446Z",
          "iopub.status.idle": "2025-09-23T13:22:26.304834Z",
          "shell.execute_reply.started": "2025-09-23T13:22:22.153424Z",
          "shell.execute_reply": "2025-09-23T13:22:26.303939Z"
        },
        "id": "jdTQjKnDsOO7"
      },
      "outputs": [],
      "execution_count": null
    },
    {
      "cell_type": "code",
      "source": [
        "train_df.head(5)\n"
      ],
      "metadata": {
        "trusted": true,
        "execution": {
          "iopub.status.busy": "2025-09-23T13:22:26.305527Z",
          "iopub.execute_input": "2025-09-23T13:22:26.305788Z",
          "iopub.status.idle": "2025-09-23T13:22:26.34885Z",
          "shell.execute_reply.started": "2025-09-23T13:22:26.305768Z",
          "shell.execute_reply": "2025-09-23T13:22:26.347883Z"
        },
        "id": "5Gw7mYUWsOO7",
        "outputId": "1a8d2e83-eafe-4cd2-df58-7f8dfeaff6f3"
      },
      "outputs": [
        {
          "name": "stderr",
          "text": "/usr/local/lib/python3.11/dist-packages/pandas/io/formats/format.py:1458: RuntimeWarning: invalid value encountered in greater\n  has_large_values = (abs_vals > 1e6).any()\n/usr/local/lib/python3.11/dist-packages/pandas/io/formats/format.py:1459: RuntimeWarning: invalid value encountered in less\n  has_small_values = ((abs_vals < 10 ** (-self.digits)) & (abs_vals > 0)).any()\n/usr/local/lib/python3.11/dist-packages/pandas/io/formats/format.py:1459: RuntimeWarning: invalid value encountered in greater\n  has_small_values = ((abs_vals < 10 ** (-self.digits)) & (abs_vals > 0)).any()\n/usr/local/lib/python3.11/dist-packages/pandas/io/formats/format.py:1458: RuntimeWarning: invalid value encountered in greater\n  has_large_values = (abs_vals > 1e6).any()\n/usr/local/lib/python3.11/dist-packages/pandas/io/formats/format.py:1459: RuntimeWarning: invalid value encountered in less\n  has_small_values = ((abs_vals < 10 ** (-self.digits)) & (abs_vals > 0)).any()\n/usr/local/lib/python3.11/dist-packages/pandas/io/formats/format.py:1459: RuntimeWarning: invalid value encountered in greater\n  has_small_values = ((abs_vals < 10 ** (-self.digits)) & (abs_vals > 0)).any()\n",
          "output_type": "stream"
        },
        {
          "execution_count": 3,
          "output_type": "execute_result",
          "data": {
            "text/plain": "                  CpuName  CpuNumberOfCores  CpuNumberOfThreads  CpuBaseClock  \\\n0  b'Intel Core i7-7700K'               4.0                 8.0         100.0   \n1    b'AMD Ryzen 7 1800X'               8.0                16.0         100.0   \n2  b'Intel Core i7-9700K'               8.0                 8.0         100.0   \n3  b'Intel Core i5-5200U'               2.0                 4.0         100.0   \n4  b'Intel Core i7-5500U'               2.0                 4.0         100.0   \n\n   CpuCacheL1  CpuCacheL2  CpuCacheL3  CpuDieSize  CpuFrequency  \\\n0       256.0      1024.0         8.0         NaN        4200.0   \n1       768.0      4096.0        16.0    0.000192        3600.0   \n2       512.0      2048.0        12.0         NaN        3600.0   \n3       128.0       512.0         3.0         NaN        2200.0   \n4       128.0       512.0         4.0         NaN        2400.0   \n\n   CpuMultiplier  ... GpuNumberOfShadingUnits  GpuNumberOfTMUs  \\\n0           42.0  ...                  3584.0            224.0   \n1           36.0  ...                  3584.0            224.0   \n2           36.0  ...                   768.0             48.0   \n3           22.0  ...                   192.0             24.0   \n4           24.0  ...                   640.0             40.0   \n\n   GpuTextureRate  GpuNumberOfTransistors   GpuVulkan  \\\n0        354400.0                 11800.0  b'1.2.131'   \n1        354400.0                 11800.0  b'1.2.131'   \n2         66820.0                  3300.0  b'1.2.131'   \n3         22800.0                     NaN   b'1.1.80'   \n4         44960.0                  1870.0  b'1.1.126'   \n\n                          GameName GameResolution  GameSetting  \\\n0  b'counterStrikeGlobalOffensive'         1080.0       b'max'   \n1  b'counterStrikeGlobalOffensive'         1080.0      b'high'   \n2                      b'fortnite'         1080.0      b'high'   \n3  b'counterStrikeGlobalOffensive'          720.0       b'low'   \n4               b'grandTheftAuto5'          720.0       b'low'   \n\n            Dataset    FPS  \n0  b'userbenchmark'  300.0  \n1  b'userbenchmark'  300.0  \n2  b'userbenchmark'   90.0  \n3  b'userbenchmark'   30.0  \n4  b'userbenchmark'    0.0  \n\n[5 rows x 45 columns]",
            "text/html": "<div>\n<style scoped>\n    .dataframe tbody tr th:only-of-type {\n        vertical-align: middle;\n    }\n\n    .dataframe tbody tr th {\n        vertical-align: top;\n    }\n\n    .dataframe thead th {\n        text-align: right;\n    }\n</style>\n<table border=\"1\" class=\"dataframe\">\n  <thead>\n    <tr style=\"text-align: right;\">\n      <th></th>\n      <th>CpuName</th>\n      <th>CpuNumberOfCores</th>\n      <th>CpuNumberOfThreads</th>\n      <th>CpuBaseClock</th>\n      <th>CpuCacheL1</th>\n      <th>CpuCacheL2</th>\n      <th>CpuCacheL3</th>\n      <th>CpuDieSize</th>\n      <th>CpuFrequency</th>\n      <th>CpuMultiplier</th>\n      <th>...</th>\n      <th>GpuNumberOfShadingUnits</th>\n      <th>GpuNumberOfTMUs</th>\n      <th>GpuTextureRate</th>\n      <th>GpuNumberOfTransistors</th>\n      <th>GpuVulkan</th>\n      <th>GameName</th>\n      <th>GameResolution</th>\n      <th>GameSetting</th>\n      <th>Dataset</th>\n      <th>FPS</th>\n    </tr>\n  </thead>\n  <tbody>\n    <tr>\n      <th>0</th>\n      <td>b'Intel Core i7-7700K'</td>\n      <td>4.0</td>\n      <td>8.0</td>\n      <td>100.0</td>\n      <td>256.0</td>\n      <td>1024.0</td>\n      <td>8.0</td>\n      <td>NaN</td>\n      <td>4200.0</td>\n      <td>42.0</td>\n      <td>...</td>\n      <td>3584.0</td>\n      <td>224.0</td>\n      <td>354400.0</td>\n      <td>11800.0</td>\n      <td>b'1.2.131'</td>\n      <td>b'counterStrikeGlobalOffensive'</td>\n      <td>1080.0</td>\n      <td>b'max'</td>\n      <td>b'userbenchmark'</td>\n      <td>300.0</td>\n    </tr>\n    <tr>\n      <th>1</th>\n      <td>b'AMD Ryzen 7 1800X'</td>\n      <td>8.0</td>\n      <td>16.0</td>\n      <td>100.0</td>\n      <td>768.0</td>\n      <td>4096.0</td>\n      <td>16.0</td>\n      <td>0.000192</td>\n      <td>3600.0</td>\n      <td>36.0</td>\n      <td>...</td>\n      <td>3584.0</td>\n      <td>224.0</td>\n      <td>354400.0</td>\n      <td>11800.0</td>\n      <td>b'1.2.131'</td>\n      <td>b'counterStrikeGlobalOffensive'</td>\n      <td>1080.0</td>\n      <td>b'high'</td>\n      <td>b'userbenchmark'</td>\n      <td>300.0</td>\n    </tr>\n    <tr>\n      <th>2</th>\n      <td>b'Intel Core i7-9700K'</td>\n      <td>8.0</td>\n      <td>8.0</td>\n      <td>100.0</td>\n      <td>512.0</td>\n      <td>2048.0</td>\n      <td>12.0</td>\n      <td>NaN</td>\n      <td>3600.0</td>\n      <td>36.0</td>\n      <td>...</td>\n      <td>768.0</td>\n      <td>48.0</td>\n      <td>66820.0</td>\n      <td>3300.0</td>\n      <td>b'1.2.131'</td>\n      <td>b'fortnite'</td>\n      <td>1080.0</td>\n      <td>b'high'</td>\n      <td>b'userbenchmark'</td>\n      <td>90.0</td>\n    </tr>\n    <tr>\n      <th>3</th>\n      <td>b'Intel Core i5-5200U'</td>\n      <td>2.0</td>\n      <td>4.0</td>\n      <td>100.0</td>\n      <td>128.0</td>\n      <td>512.0</td>\n      <td>3.0</td>\n      <td>NaN</td>\n      <td>2200.0</td>\n      <td>22.0</td>\n      <td>...</td>\n      <td>192.0</td>\n      <td>24.0</td>\n      <td>22800.0</td>\n      <td>NaN</td>\n      <td>b'1.1.80'</td>\n      <td>b'counterStrikeGlobalOffensive'</td>\n      <td>720.0</td>\n      <td>b'low'</td>\n      <td>b'userbenchmark'</td>\n      <td>30.0</td>\n    </tr>\n    <tr>\n      <th>4</th>\n      <td>b'Intel Core i7-5500U'</td>\n      <td>2.0</td>\n      <td>4.0</td>\n      <td>100.0</td>\n      <td>128.0</td>\n      <td>512.0</td>\n      <td>4.0</td>\n      <td>NaN</td>\n      <td>2400.0</td>\n      <td>24.0</td>\n      <td>...</td>\n      <td>640.0</td>\n      <td>40.0</td>\n      <td>44960.0</td>\n      <td>1870.0</td>\n      <td>b'1.1.126'</td>\n      <td>b'grandTheftAuto5'</td>\n      <td>720.0</td>\n      <td>b'low'</td>\n      <td>b'userbenchmark'</td>\n      <td>0.0</td>\n    </tr>\n  </tbody>\n</table>\n<p>5 rows × 45 columns</p>\n</div>"
          },
          "metadata": {}
        }
      ],
      "execution_count": null
    },
    {
      "cell_type": "code",
      "source": [
        "train_df.columns\n",
        "train_df.shape"
      ],
      "metadata": {
        "trusted": true,
        "execution": {
          "iopub.status.busy": "2025-09-23T13:22:26.349677Z",
          "iopub.execute_input": "2025-09-23T13:22:26.34994Z",
          "iopub.status.idle": "2025-09-23T13:22:26.35529Z",
          "shell.execute_reply.started": "2025-09-23T13:22:26.349913Z",
          "shell.execute_reply": "2025-09-23T13:22:26.354473Z"
        },
        "id": "H1zXUYeOsOO8",
        "outputId": "853b3c8d-93c2-46e5-8ee6-c561b7123ff9"
      },
      "outputs": [
        {
          "execution_count": 4,
          "output_type": "execute_result",
          "data": {
            "text/plain": "(383249, 45)"
          },
          "metadata": {}
        }
      ],
      "execution_count": null
    },
    {
      "cell_type": "code",
      "source": [
        "missing_counts = train_df.isnull().sum()\n",
        "missing_pct = (missing_counts / len(train_df)) * 100\n",
        "missing_summary = pd.DataFrame({\n",
        "    \"missing_count\": missing_counts,\n",
        "    \"missing_pct\": missing_pct,\n",
        "    \"dtype\": train_df.dtypes\n",
        "}).sort_values(\"missing_pct\", ascending=False)\n",
        "\n",
        "print(\"Missing Value Summary:\")\n",
        "print(missing_summary[missing_summary[\"missing_count\"] > 0])"
      ],
      "metadata": {
        "trusted": true,
        "execution": {
          "iopub.status.busy": "2025-09-23T13:22:26.356434Z",
          "iopub.execute_input": "2025-09-23T13:22:26.356669Z",
          "iopub.status.idle": "2025-09-23T13:22:26.681535Z",
          "shell.execute_reply.started": "2025-09-23T13:22:26.356652Z",
          "shell.execute_reply": "2025-09-23T13:22:26.680779Z"
        },
        "id": "rtu4-UCSsOO8",
        "outputId": "7a033e52-9b52-4eef-87ce-96f3c2552a25"
      },
      "outputs": [
        {
          "name": "stdout",
          "text": "Missing Value Summary:\n                           missing_count  missing_pct    dtype\nGpuNumberOfExecutionUnits         371680    96.981336  float64\nGpuNumberOfComputeUnits           321330    83.843663  float64\nCpuNumberOfTransistors            203305    53.047757  float64\nCpuDieSize                        182169    47.532805  float64\nGpuMemorySize                      13852     3.614360  float64\nGpuBandwidth                       13852     3.614360  float64\nGpuMemoryBus                       13852     3.614360  float64\nGpuNumberOfTransistors             10345     2.699289  float64\nGpuDieSize                         10045     2.621011  float64\nCpuCacheL3                          4548     1.186696  float64\nGpuFP32Performance                    53     0.013829  float64\nGpuNumberOfShadingUnits               53     0.013829  float64\n",
          "output_type": "stream"
        }
      ],
      "execution_count": null
    },
    {
      "cell_type": "code",
      "source": [
        "#Logic for handling missing values\n",
        "\n",
        "drop_threshold = 0.8\n",
        "\n",
        "# 3. Drop columns with too many missing values(>80%)\n",
        "to_drop = missing_summary[missing_summary[\"missing_pct\"] > drop_threshold*100].index\n",
        "train_df = train_df.drop(columns=to_drop)\n"
      ],
      "metadata": {
        "trusted": true,
        "execution": {
          "iopub.status.busy": "2025-09-23T13:22:26.682371Z",
          "iopub.execute_input": "2025-09-23T13:22:26.682649Z",
          "iopub.status.idle": "2025-09-23T13:22:26.769181Z",
          "shell.execute_reply.started": "2025-09-23T13:22:26.682624Z",
          "shell.execute_reply": "2025-09-23T13:22:26.768346Z"
        },
        "id": "_BJg_pawsOO8"
      },
      "outputs": [],
      "execution_count": null
    },
    {
      "cell_type": "code",
      "source": [
        "train_df.columns\n",
        "train_df.shape"
      ],
      "metadata": {
        "trusted": true,
        "execution": {
          "iopub.status.busy": "2025-09-23T13:22:26.77183Z",
          "iopub.execute_input": "2025-09-23T13:22:26.772099Z",
          "iopub.status.idle": "2025-09-23T13:22:26.777265Z",
          "shell.execute_reply.started": "2025-09-23T13:22:26.772078Z",
          "shell.execute_reply": "2025-09-23T13:22:26.776537Z"
        },
        "id": "Ix96Y-vhsOO9",
        "outputId": "d26225fd-ab04-4b60-a36e-3d5961b6a492"
      },
      "outputs": [
        {
          "execution_count": 7,
          "output_type": "execute_result",
          "data": {
            "text/plain": "(383249, 43)"
          },
          "metadata": {}
        }
      ],
      "execution_count": null
    },
    {
      "cell_type": "code",
      "source": [
        "for col in train_df.select_dtypes(include=[np.number]).columns:\n",
        "    if train_df[col].isnull().sum() > 0:\n",
        "        train_df[col] = train_df[col].fillna(train_df[col].median())"
      ],
      "metadata": {
        "trusted": true,
        "execution": {
          "iopub.status.busy": "2025-09-23T13:22:26.77804Z",
          "iopub.execute_input": "2025-09-23T13:22:26.778234Z",
          "iopub.status.idle": "2025-09-23T13:22:26.965617Z",
          "shell.execute_reply.started": "2025-09-23T13:22:26.778217Z",
          "shell.execute_reply": "2025-09-23T13:22:26.964691Z"
        },
        "id": "6zRXnGuqsOO9"
      },
      "outputs": [],
      "execution_count": null
    },
    {
      "cell_type": "code",
      "source": [
        "import matplotlib.pyplot as plt\n",
        "import seaborn as sns\n",
        "print(\"\\n🎯 Analyzing Target Variable (FPS) Distribution...\")\n",
        "\n",
        "fig, axes = plt.subplots(2, 2, figsize=(14, 10))\n",
        "\n",
        "# Histogram\n",
        "axes[0, 0].hist(train_df['FPS'], bins=30, edgecolor='black', alpha=0.7)\n",
        "axes[0, 0].set_title('FPS Distribution')\n",
        "axes[0, 0].set_xlabel('FPS')\n",
        "axes[0, 0].set_ylabel('Frequency')\n",
        "axes[0, 0].axvline(train_df['FPS'].mean(), color='red', linestyle='--', label=f'Mean: {train_df[\"FPS\"].mean():.1f}')\n",
        "axes[0, 0].axvline(train_df['FPS'].median(), color='green', linestyle='--', label=f'Median: {train_df[\"FPS\"].median():.1f}')\n",
        "axes[0, 0].legend()\n",
        "\n",
        "\n",
        "from scipy import stats\n",
        "from scipy.stats import shapiro, normaltest, pearsonr, spearmanr\n",
        "\n",
        "# QQ Plot\n",
        "stats.probplot(train_df['FPS'], dist=\"norm\", plot=axes[0, 1])\n",
        "axes[0, 1].set_title('Q-Q Plot')\n",
        "\n",
        "# Box Plot\n",
        "axes[1, 0].boxplot(train_df['FPS'], vert=False)\n",
        "axes[1, 0].set_xlabel('FPS')\n",
        "axes[1, 0].set_title('FPS Box Plot')\n",
        "\n",
        "# Log-transformed distribution\n",
        "log_fps = np.log1p(train_df['FPS'])\n",
        "axes[1, 1].hist(log_fps, bins=30, edgecolor='black', alpha=0.7)\n",
        "axes[1, 1].set_title('Log(FPS) Distribution')\n",
        "axes[1, 1].set_xlabel('Log(FPS)')\n",
        "axes[1, 1].set_ylabel('Frequency')\n",
        "\n",
        "\n",
        "plt.tight_layout()\n",
        "plt.show()"
      ],
      "metadata": {
        "trusted": true,
        "execution": {
          "iopub.status.busy": "2025-09-23T13:22:26.966557Z",
          "iopub.execute_input": "2025-09-23T13:22:26.966882Z",
          "iopub.status.idle": "2025-09-23T13:22:29.694611Z",
          "shell.execute_reply.started": "2025-09-23T13:22:26.966861Z",
          "shell.execute_reply": "2025-09-23T13:22:29.693762Z"
        },
        "id": "xMbVRxzLsOO9",
        "outputId": "c3d4e738-497a-4bdd-c6d7-ec5ac15fa350"
      },
      "outputs": [
        {
          "name": "stdout",
          "text": "\n🎯 Analyzing Target Variable (FPS) Distribution...\n",
          "output_type": "stream"
        },
        {
          "output_type": "display_data",
          "data": {
            "text/plain": "<Figure size 1400x1000 with 4 Axes>",
            "image/png": "[encoded data removed]"
          },
          "metadata": {}
        }
      ],
      "execution_count": null
    },
    {
      "cell_type": "code",
      "source": [
        "# Normality test\n",
        "stat, p = shapiro(train_df[\"FPS\"])\n",
        "print(f\"Shapiro-Wilk p-value: {p}\")\n",
        "if p < 0.05:\n",
        "    print(\"Reject normality → FPS is not normally distributed\")"
      ],
      "metadata": {
        "trusted": true,
        "execution": {
          "iopub.status.busy": "2025-09-23T13:22:29.695454Z",
          "iopub.execute_input": "2025-09-23T13:22:29.695818Z",
          "iopub.status.idle": "2025-09-23T13:22:29.729773Z",
          "shell.execute_reply.started": "2025-09-23T13:22:29.695798Z",
          "shell.execute_reply": "2025-09-23T13:22:29.728942Z"
        },
        "id": "U6_6ORUJsOO9",
        "outputId": "bf407570-f250-49bd-eea5-be91ce5b47f2"
      },
      "outputs": [
        {
          "name": "stdout",
          "text": "Shapiro-Wilk p-value: 7.29086919038828e-143\nReject normality → FPS is not normally distributed\n",
          "output_type": "stream"
        },
        {
          "name": "stderr",
          "text": "/usr/local/lib/python3.11/dist-packages/scipy/stats/_axis_nan_policy.py:586: UserWarning: scipy.stats.shapiro: For N > 5000, computed p-value may not be accurate. Current N is 383249.\n  res = hypotest_fun_out(*samples, **kwds)\n",
          "output_type": "stream"
        }
      ],
      "execution_count": null
    },
    {
      "cell_type": "code",
      "source": [
        "train_df[\"FPS\"]"
      ],
      "metadata": {
        "trusted": true,
        "execution": {
          "iopub.status.busy": "2025-09-23T13:22:29.730503Z",
          "iopub.execute_input": "2025-09-23T13:22:29.730719Z",
          "iopub.status.idle": "2025-09-23T13:22:29.738027Z",
          "shell.execute_reply.started": "2025-09-23T13:22:29.730701Z",
          "shell.execute_reply": "2025-09-23T13:22:29.737158Z"
        },
        "id": "uNAWs4EXsOO9",
        "outputId": "00e2bb7a-e793-4488-a3ea-ba786fe5ead4"
      },
      "outputs": [
        {
          "execution_count": 11,
          "output_type": "execute_result",
          "data": {
            "text/plain": "0         300.0\n1         300.0\n2          90.0\n3          30.0\n4           0.0\n          ...  \n383244     60.0\n383245     51.0\n383246    110.0\n383247    100.0\n383248     60.0\nName: FPS, Length: 383249, dtype: float64"
          },
          "metadata": {}
        }
      ],
      "execution_count": null
    },
    {
      "cell_type": "code",
      "source": [
        "# Yeo-Johnson transform (works with zero/negative):\n",
        "from sklearn.preprocessing import PowerTransformer\n",
        "pt = PowerTransformer(method=\"yeo-johnson\")\n",
        "train_df[\"FPS_yj\"] = pt.fit_transform(train_df[[\"FPS\"]])"
      ],
      "metadata": {
        "trusted": true,
        "execution": {
          "iopub.status.busy": "2025-09-23T13:22:29.738834Z",
          "iopub.execute_input": "2025-09-23T13:22:29.739203Z",
          "iopub.status.idle": "2025-09-23T13:22:30.192277Z",
          "shell.execute_reply.started": "2025-09-23T13:22:29.739175Z",
          "shell.execute_reply": "2025-09-23T13:22:30.19121Z"
        },
        "id": "314eGsrZsOO-"
      },
      "outputs": [],
      "execution_count": null
    },
    {
      "cell_type": "code",
      "source": [
        "train_df.shape"
      ],
      "metadata": {
        "trusted": true,
        "execution": {
          "iopub.status.busy": "2025-09-23T13:22:30.193302Z",
          "iopub.execute_input": "2025-09-23T13:22:30.193573Z",
          "iopub.status.idle": "2025-09-23T13:22:30.198728Z",
          "shell.execute_reply.started": "2025-09-23T13:22:30.193547Z",
          "shell.execute_reply": "2025-09-23T13:22:30.198073Z"
        },
        "id": "tv2DondnsOO-",
        "outputId": "c328d746-4e3b-4dd0-ed92-5d04bf73d1e6"
      },
      "outputs": [
        {
          "execution_count": 13,
          "output_type": "execute_result",
          "data": {
            "text/plain": "(383249, 44)"
          },
          "metadata": {}
        }
      ],
      "execution_count": null
    },
    {
      "cell_type": "code",
      "source": [
        "from scipy.stats import pearsonr, spearmanr, f_oneway, kruskal\n",
        "\n",
        "# Correlation for numeric features\n",
        "numeric_cols = train_df.select_dtypes(include=[np.number]).drop(columns=[\"FPS\"]).columns\n",
        "for col in numeric_cols:\n",
        "    corr, _ = spearmanr(train_df[col], train_df[\"FPS\"], nan_policy=\"omit\")\n",
        "    print(f\"{col}: Spearman Corr = {corr:.3f}\")\n",
        "\n",
        "# ANOVA/Kruskal for categorical\n",
        "categorical_cols = train_df.select_dtypes(exclude=[np.number]).columns\n",
        "for col in categorical_cols:\n",
        "    groups = [train_df.loc[train_df[col] == cat, \"FPS\"].dropna() for cat in train_df[col].dropna().unique()]\n",
        "    if len(groups) > 1:\n",
        "        stat, p = f_oneway(*groups)  # or use kruskal(*groups)\n",
        "        print(f\"{col}: ANOVA p-value = {p:.3e}\")\n"
      ],
      "metadata": {
        "trusted": true,
        "execution": {
          "iopub.status.busy": "2025-09-23T13:22:30.199558Z",
          "iopub.execute_input": "2025-09-23T13:22:30.200238Z",
          "iopub.status.idle": "2025-09-23T13:22:59.029425Z",
          "shell.execute_reply.started": "2025-09-23T13:22:30.200217Z",
          "shell.execute_reply": "2025-09-23T13:22:59.028623Z"
        },
        "id": "US7D2I31sOO-",
        "outputId": "208be2fd-8d83-409b-9f82-f309bc807068"
      },
      "outputs": [
        {
          "name": "stdout",
          "text": "CpuNumberOfCores: Spearman Corr = 0.192\nCpuNumberOfThreads: Spearman Corr = 0.235\nCpuBaseClock: Spearman Corr = -0.210\nCpuCacheL1: Spearman Corr = 0.178\nCpuCacheL2: Spearman Corr = 0.077\nCpuCacheL3: Spearman Corr = 0.242\nCpuDieSize: Spearman Corr = 0.011\nCpuFrequency: Spearman Corr = 0.269\nCpuMultiplier: Spearman Corr = 0.335\nCpuProcessSize: Spearman Corr = -0.250\nCpuTDP: Spearman Corr = 0.175\nCpuNumberOfTransistors: Spearman Corr = 0.158\nCpuTurboClock: Spearman Corr = 0.344\nGpuBandwidth: Spearman Corr = 0.313\nGpuBaseClock: Spearman Corr = 0.364\nGpuBoostClock: Spearman Corr = 0.350\nGpuDieSize: Spearman Corr = 0.237\nGpuFP32Performance: Spearman Corr = 0.395\nGpuMemoryBus: Spearman Corr = 0.177\nGpuMemorySize: Spearman Corr = 0.332\nGpuPixelRate: Spearman Corr = 0.420\nGpuProcessSize: Spearman Corr = -0.097\nGpuNumberOfROPs: Spearman Corr = 0.403\nGpuNumberOfShadingUnits: Spearman Corr = 0.350\nGpuNumberOfTMUs: Spearman Corr = 0.340\nGpuTextureRate: Spearman Corr = 0.390\nGpuNumberOfTransistors: Spearman Corr = 0.332\nGameResolution: Spearman Corr = 0.229\nFPS_yj: Spearman Corr = 1.000\nCpuName: ANOVA p-value = 0.000e+00\nCpuMultiplierUnlocked: ANOVA p-value = 0.000e+00\nGpuName: ANOVA p-value = 0.000e+00\nGpuArchitecture: ANOVA p-value = 0.000e+00\nGpuBus nterface: ANOVA p-value = 0.000e+00\nGpuDirectX: ANOVA p-value = 0.000e+00\nGpuMemoryType: ANOVA p-value = 0.000e+00\nGpuOpenCL: ANOVA p-value = 0.000e+00\nGpuOpenGL: ANOVA p-value = 0.000e+00\nGpuShaderModel: ANOVA p-value = 0.000e+00\nGpuVulkan: ANOVA p-value = 0.000e+00\nGameName: ANOVA p-value = 0.000e+00\nGameSetting: ANOVA p-value = 0.000e+00\nDataset: ANOVA p-value = 2.207e-137\n",
          "output_type": "stream"
        }
      ],
      "execution_count": null
    },
    {
      "cell_type": "code",
      "source": [
        "from scipy.stats import spearmanr, f_oneway\n",
        "\n",
        "target = \"FPS\"\n",
        "\n",
        "# --- Numeric features ---\n",
        "numeric_cols = train_df.select_dtypes(include=[np.number]).drop(columns=[target]).columns\n",
        "selected_numeric = []\n",
        "for col in numeric_cols:\n",
        "    corr, _ = spearmanr(train_df[col], train_df[target], nan_policy=\"omit\")\n",
        "    if abs(corr) >= 0.1:     # keep only meaningful correlation\n",
        "        selected_numeric.append(col)\n",
        "\n",
        "# --- Categorical features ---\n",
        "categorical_cols = train_df.select_dtypes(exclude=[np.number]).columns\n",
        "selected_categorical = []\n",
        "for col in categorical_cols:\n",
        "    groups = [train_df.loc[train_df[col] == cat, target].dropna() for cat in train_df[col].dropna().unique()]\n",
        "    if len(groups) > 1:\n",
        "        stat, p = f_oneway(*groups)\n",
        "        if p <= 0.05:       # keep only significant groups\n",
        "            selected_categorical.append(col)\n",
        "\n",
        "# --- Final keep list ---\n",
        "selected_features = selected_numeric + selected_categorical + [target]\n",
        "\n",
        "# --- Shrink dataframe in place ---\n",
        "train_df = train_df[selected_features]\n",
        "\n",
        "print(\"✅ Final feature set:\", selected_features)\n"
      ],
      "metadata": {
        "trusted": true,
        "execution": {
          "iopub.status.busy": "2025-09-23T13:22:59.030122Z",
          "iopub.execute_input": "2025-09-23T13:22:59.030336Z",
          "iopub.status.idle": "2025-09-23T13:23:27.697528Z",
          "shell.execute_reply.started": "2025-09-23T13:22:59.030318Z",
          "shell.execute_reply": "2025-09-23T13:23:27.696747Z"
        },
        "id": "N4vMnQQssOO-",
        "outputId": "bc2e0dc4-9f12-4268-9298-e3c3b023385b"
      },
      "outputs": [
        {
          "name": "stdout",
          "text": "✅ Final feature set: ['CpuNumberOfCores', 'CpuNumberOfThreads', 'CpuBaseClock', 'CpuCacheL1', 'CpuCacheL3', 'CpuFrequency', 'CpuMultiplier', 'CpuProcessSize', 'CpuTDP', 'CpuNumberOfTransistors', 'CpuTurboClock', 'GpuBandwidth', 'GpuBaseClock', 'GpuBoostClock', 'GpuDieSize', 'GpuFP32Performance', 'GpuMemoryBus', 'GpuMemorySize', 'GpuPixelRate', 'GpuNumberOfROPs', 'GpuNumberOfShadingUnits', 'GpuNumberOfTMUs', 'GpuTextureRate', 'GpuNumberOfTransistors', 'GameResolution', 'FPS_yj', 'CpuName', 'CpuMultiplierUnlocked', 'GpuName', 'GpuArchitecture', 'GpuBus nterface', 'GpuDirectX', 'GpuMemoryType', 'GpuOpenCL', 'GpuOpenGL', 'GpuShaderModel', 'GpuVulkan', 'GameName', 'GameSetting', 'Dataset', 'FPS']\n",
          "output_type": "stream"
        }
      ],
      "execution_count": null
    },
    {
      "cell_type": "code",
      "source": [
        "train_df[\"FPS_yj\"]"
      ],
      "metadata": {
        "trusted": true,
        "execution": {
          "iopub.status.busy": "2025-09-23T13:23:27.698379Z",
          "iopub.execute_input": "2025-09-23T13:23:27.698651Z",
          "iopub.status.idle": "2025-09-23T13:23:27.705678Z",
          "shell.execute_reply.started": "2025-09-23T13:23:27.698629Z",
          "shell.execute_reply": "2025-09-23T13:23:27.704787Z"
        },
        "id": "V3m407gqsOO-",
        "outputId": "e6411dcd-1b8b-4244-9554-d593b5ecb93b"
      },
      "outputs": [
        {
          "execution_count": 16,
          "output_type": "execute_result",
          "data": {
            "text/plain": "0         1.629983\n1         1.629983\n2        -0.442215\n3        -1.720975\n4        -3.748310\n            ...   \n383244   -0.971097\n383245   -1.163373\n383246   -0.152310\n383247   -0.292454\n383248   -0.971097\nName: FPS_yj, Length: 383249, dtype: float64"
          },
          "metadata": {}
        }
      ],
      "execution_count": null
    },
    {
      "cell_type": "code",
      "source": [
        "print(train_df.columns)\n"
      ],
      "metadata": {
        "trusted": true,
        "execution": {
          "iopub.status.busy": "2025-09-23T13:23:27.70646Z",
          "iopub.execute_input": "2025-09-23T13:23:27.706731Z",
          "iopub.status.idle": "2025-09-23T13:23:27.726388Z",
          "shell.execute_reply.started": "2025-09-23T13:23:27.706707Z",
          "shell.execute_reply": "2025-09-23T13:23:27.725481Z"
        },
        "id": "UqQ5m6w8sOO-",
        "outputId": "9d24f0b1-2f54-45b6-8765-ae12431992b1"
      },
      "outputs": [
        {
          "name": "stdout",
          "text": "Index(['CpuNumberOfCores', 'CpuNumberOfThreads', 'CpuBaseClock', 'CpuCacheL1',\n       'CpuCacheL3', 'CpuFrequency', 'CpuMultiplier', 'CpuProcessSize',\n       'CpuTDP', 'CpuNumberOfTransistors', 'CpuTurboClock', 'GpuBandwidth',\n       'GpuBaseClock', 'GpuBoostClock', 'GpuDieSize', 'GpuFP32Performance',\n       'GpuMemoryBus', 'GpuMemorySize', 'GpuPixelRate', 'GpuNumberOfROPs',\n       'GpuNumberOfShadingUnits', 'GpuNumberOfTMUs', 'GpuTextureRate',\n       'GpuNumberOfTransistors', 'GameResolution', 'FPS_yj', 'CpuName',\n       'CpuMultiplierUnlocked', 'GpuName', 'GpuArchitecture',\n       'GpuBus nterface', 'GpuDirectX', 'GpuMemoryType', 'GpuOpenCL',\n       'GpuOpenGL', 'GpuShaderModel', 'GpuVulkan', 'GameName', 'GameSetting',\n       'Dataset', 'FPS'],\n      dtype='object')\n",
          "output_type": "stream"
        }
      ],
      "execution_count": null
    },
    {
      "cell_type": "code",
      "source": [
        "\n",
        "# Select numeric features (after correlation/ANOVA filtering)\n",
        "numeric_features = train_df.select_dtypes(include=[np.number]).drop(columns=[\"FPS\"]).columns\n",
        "\n",
        "# ---- Step 3a: Correlation matrix ----\n",
        "corr_matrix = train_df[numeric_features].corr().abs()\n",
        "upper = corr_matrix.where(np.triu(np.ones(corr_matrix.shape), k=1).astype(bool))\n",
        "\n",
        "# Drop features with high correlation (> 0.85)\n",
        "to_drop_corr = [col for col in upper.columns if any(upper[col] > 0.85)]\n",
        "numeric_features = [col for col in numeric_features if col not in to_drop_corr]\n",
        "\n",
        "print(\"Dropped due to high correlation:\", to_drop_corr)"
      ],
      "metadata": {
        "trusted": true,
        "execution": {
          "iopub.status.busy": "2025-09-23T13:23:27.727246Z",
          "iopub.execute_input": "2025-09-23T13:23:27.727456Z",
          "iopub.status.idle": "2025-09-23T13:23:28.660754Z",
          "shell.execute_reply.started": "2025-09-23T13:23:27.727438Z",
          "shell.execute_reply": "2025-09-23T13:23:28.659921Z"
        },
        "id": "8wlvMTSvsOO-",
        "outputId": "800595dd-3a33-4df4-fcf0-51b5da14a9d8"
      },
      "outputs": [
        {
          "name": "stdout",
          "text": "Dropped due to high correlation: ['GpuBoostClock', 'GpuFP32Performance', 'GpuMemorySize', 'GpuPixelRate', 'GpuNumberOfROPs', 'GpuNumberOfShadingUnits', 'GpuNumberOfTMUs', 'GpuTextureRate', 'GpuNumberOfTransistors']\n",
          "output_type": "stream"
        },
        {
          "name": "stderr",
          "text": "/usr/local/lib/python3.11/dist-packages/pandas/core/computation/expressions.py:73: RuntimeWarning: invalid value encountered in greater\n  return op(a, b)\n",
          "output_type": "stream"
        }
      ],
      "execution_count": null
    },
    {
      "cell_type": "code",
      "source": [
        "train_df = train_df.drop(columns=to_drop_corr)\n",
        "\n",
        "print(\"✅ train_df shape after dropping correlated features:\", train_df.shape)"
      ],
      "metadata": {
        "trusted": true,
        "execution": {
          "iopub.status.busy": "2025-09-23T13:23:28.661507Z",
          "iopub.execute_input": "2025-09-23T13:23:28.661732Z",
          "iopub.status.idle": "2025-09-23T13:23:28.752771Z",
          "shell.execute_reply.started": "2025-09-23T13:23:28.661714Z",
          "shell.execute_reply": "2025-09-23T13:23:28.751945Z"
        },
        "id": "BnXvE2i_sOO-",
        "outputId": "146c2f47-ced7-4360-9550-fa5541662233"
      },
      "outputs": [
        {
          "name": "stdout",
          "text": "✅ train_df shape after dropping correlated features: (383249, 32)\n",
          "output_type": "stream"
        }
      ],
      "execution_count": null
    },
    {
      "cell_type": "code",
      "source": [
        "train_df.head(5)"
      ],
      "metadata": {
        "trusted": true,
        "execution": {
          "iopub.status.busy": "2025-09-23T13:23:28.753808Z",
          "iopub.execute_input": "2025-09-23T13:23:28.754397Z",
          "iopub.status.idle": "2025-09-23T13:23:28.776582Z",
          "shell.execute_reply.started": "2025-09-23T13:23:28.754374Z",
          "shell.execute_reply": "2025-09-23T13:23:28.775738Z"
        },
        "id": "MKRpdZRQsOO-",
        "outputId": "4d4b78b1-3683-4e46-f3f6-dc6ae29ea29a"
      },
      "outputs": [
        {
          "execution_count": 20,
          "output_type": "execute_result",
          "data": {
            "text/plain": "   CpuNumberOfCores  CpuNumberOfThreads  CpuBaseClock  CpuCacheL1  CpuCacheL3  \\\n0               4.0                 8.0         100.0       256.0         8.0   \n1               8.0                16.0         100.0       768.0        16.0   \n2               8.0                 8.0         100.0       512.0        12.0   \n3               2.0                 4.0         100.0       128.0         3.0   \n4               2.0                 4.0         100.0       128.0         4.0   \n\n   CpuFrequency  CpuMultiplier  CpuProcessSize  CpuTDP  \\\n0        4200.0           42.0            14.0    91.0   \n1        3600.0           36.0            14.0    95.0   \n2        3600.0           36.0            14.0    95.0   \n3        2200.0           22.0            14.0    15.0   \n4        2400.0           24.0            14.0    15.0   \n\n   CpuNumberOfTransistors  ...  GpuDirectX  GpuMemoryType  GpuOpenCL  \\\n0                  1400.0  ...       b'12'      b'GDDR5X'     b'1.2'   \n1                  4800.0  ...       b'12'      b'GDDR5X'     b'1.2'   \n2                  1400.0  ...       b'12'       b'GDDR5'     b'1.2'   \n3                  1400.0  ...       b'12'           b'?'       b'2'   \n4                  1400.0  ...       b'12'        b'DDR3'     b'1.2'   \n\n   GpuOpenGL  GpuShaderModel   GpuVulkan                         GameName  \\\n0     b'4.6'          b'6.4'  b'1.2.131'  b'counterStrikeGlobalOffensive'   \n1     b'4.6'          b'6.4'  b'1.2.131'  b'counterStrikeGlobalOffensive'   \n2     b'4.6'          b'6.4'  b'1.2.131'                      b'fortnite'   \n3     b'4.4'          b'5.1'   b'1.1.80'  b'counterStrikeGlobalOffensive'   \n4     b'4.6'          b'5.1'  b'1.1.126'               b'grandTheftAuto5'   \n\n  GameSetting           Dataset    FPS  \n0      b'max'  b'userbenchmark'  300.0  \n1     b'high'  b'userbenchmark'  300.0  \n2     b'high'  b'userbenchmark'   90.0  \n3      b'low'  b'userbenchmark'   30.0  \n4      b'low'  b'userbenchmark'    0.0  \n\n[5 rows x 32 columns]",
            "text/html": "<div>\n<style scoped>\n    .dataframe tbody tr th:only-of-type {\n        vertical-align: middle;\n    }\n\n    .dataframe tbody tr th {\n        vertical-align: top;\n    }\n\n    .dataframe thead th {\n        text-align: right;\n    }\n</style>\n<table border=\"1\" class=\"dataframe\">\n  <thead>\n    <tr style=\"text-align: right;\">\n      <th></th>\n      <th>CpuNumberOfCores</th>\n      <th>CpuNumberOfThreads</th>\n      <th>CpuBaseClock</th>\n      <th>CpuCacheL1</th>\n      <th>CpuCacheL3</th>\n      <th>CpuFrequency</th>\n      <th>CpuMultiplier</th>\n      <th>CpuProcessSize</th>\n      <th>CpuTDP</th>\n      <th>CpuNumberOfTransistors</th>\n      <th>...</th>\n      <th>GpuDirectX</th>\n      <th>GpuMemoryType</th>\n      <th>GpuOpenCL</th>\n      <th>GpuOpenGL</th>\n      <th>GpuShaderModel</th>\n      <th>GpuVulkan</th>\n      <th>GameName</th>\n      <th>GameSetting</th>\n      <th>Dataset</th>\n      <th>FPS</th>\n    </tr>\n  </thead>\n  <tbody>\n    <tr>\n      <th>0</th>\n      <td>4.0</td>\n      <td>8.0</td>\n      <td>100.0</td>\n      <td>256.0</td>\n      <td>8.0</td>\n      <td>4200.0</td>\n      <td>42.0</td>\n      <td>14.0</td>\n      <td>91.0</td>\n      <td>1400.0</td>\n      <td>...</td>\n      <td>b'12'</td>\n      <td>b'GDDR5X'</td>\n      <td>b'1.2'</td>\n      <td>b'4.6'</td>\n      <td>b'6.4'</td>\n      <td>b'1.2.131'</td>\n      <td>b'counterStrikeGlobalOffensive'</td>\n      <td>b'max'</td>\n      <td>b'userbenchmark'</td>\n      <td>300.0</td>\n    </tr>\n    <tr>\n      <th>1</th>\n      <td>8.0</td>\n      <td>16.0</td>\n      <td>100.0</td>\n      <td>768.0</td>\n      <td>16.0</td>\n      <td>3600.0</td>\n      <td>36.0</td>\n      <td>14.0</td>\n      <td>95.0</td>\n      <td>4800.0</td>\n      <td>...</td>\n      <td>b'12'</td>\n      <td>b'GDDR5X'</td>\n      <td>b'1.2'</td>\n      <td>b'4.6'</td>\n      <td>b'6.4'</td>\n      <td>b'1.2.131'</td>\n      <td>b'counterStrikeGlobalOffensive'</td>\n      <td>b'high'</td>\n      <td>b'userbenchmark'</td>\n      <td>300.0</td>\n    </tr>\n    <tr>\n      <th>2</th>\n      <td>8.0</td>\n      <td>8.0</td>\n      <td>100.0</td>\n      <td>512.0</td>\n      <td>12.0</td>\n      <td>3600.0</td>\n      <td>36.0</td>\n      <td>14.0</td>\n      <td>95.0</td>\n      <td>1400.0</td>\n      <td>...</td>\n      <td>b'12'</td>\n      <td>b'GDDR5'</td>\n      <td>b'1.2'</td>\n      <td>b'4.6'</td>\n      <td>b'6.4'</td>\n      <td>b'1.2.131'</td>\n      <td>b'fortnite'</td>\n      <td>b'high'</td>\n      <td>b'userbenchmark'</td>\n      <td>90.0</td>\n    </tr>\n    <tr>\n      <th>3</th>\n      <td>2.0</td>\n      <td>4.0</td>\n      <td>100.0</td>\n      <td>128.0</td>\n      <td>3.0</td>\n      <td>2200.0</td>\n      <td>22.0</td>\n      <td>14.0</td>\n      <td>15.0</td>\n      <td>1400.0</td>\n      <td>...</td>\n      <td>b'12'</td>\n      <td>b'?'</td>\n      <td>b'2'</td>\n      <td>b'4.4'</td>\n      <td>b'5.1'</td>\n      <td>b'1.1.80'</td>\n      <td>b'counterStrikeGlobalOffensive'</td>\n      <td>b'low'</td>\n      <td>b'userbenchmark'</td>\n      <td>30.0</td>\n    </tr>\n    <tr>\n      <th>4</th>\n      <td>2.0</td>\n      <td>4.0</td>\n      <td>100.0</td>\n      <td>128.0</td>\n      <td>4.0</td>\n      <td>2400.0</td>\n      <td>24.0</td>\n      <td>14.0</td>\n      <td>15.0</td>\n      <td>1400.0</td>\n      <td>...</td>\n      <td>b'12'</td>\n      <td>b'DDR3'</td>\n      <td>b'1.2'</td>\n      <td>b'4.6'</td>\n      <td>b'5.1'</td>\n      <td>b'1.1.126'</td>\n      <td>b'grandTheftAuto5'</td>\n      <td>b'low'</td>\n      <td>b'userbenchmark'</td>\n      <td>0.0</td>\n    </tr>\n  </tbody>\n</table>\n<p>5 rows × 32 columns</p>\n</div>"
          },
          "metadata": {}
        }
      ],
      "execution_count": null
    },
    {
      "cell_type": "code",
      "source": [
        "print(train_df.columns)"
      ],
      "metadata": {
        "trusted": true,
        "execution": {
          "iopub.status.busy": "2025-09-23T13:23:28.777521Z",
          "iopub.execute_input": "2025-09-23T13:23:28.778075Z",
          "iopub.status.idle": "2025-09-23T13:23:28.792085Z",
          "shell.execute_reply.started": "2025-09-23T13:23:28.778052Z",
          "shell.execute_reply": "2025-09-23T13:23:28.791229Z"
        },
        "id": "1MFop3RPsOO-",
        "outputId": "ac920e72-73f9-40d7-91d4-0c577391b520"
      },
      "outputs": [
        {
          "name": "stdout",
          "text": "Index(['CpuNumberOfCores', 'CpuNumberOfThreads', 'CpuBaseClock', 'CpuCacheL1',\n       'CpuCacheL3', 'CpuFrequency', 'CpuMultiplier', 'CpuProcessSize',\n       'CpuTDP', 'CpuNumberOfTransistors', 'CpuTurboClock', 'GpuBandwidth',\n       'GpuBaseClock', 'GpuDieSize', 'GpuMemoryBus', 'GameResolution',\n       'FPS_yj', 'CpuName', 'CpuMultiplierUnlocked', 'GpuName',\n       'GpuArchitecture', 'GpuBus nterface', 'GpuDirectX', 'GpuMemoryType',\n       'GpuOpenCL', 'GpuOpenGL', 'GpuShaderModel', 'GpuVulkan', 'GameName',\n       'GameSetting', 'Dataset', 'FPS'],\n      dtype='object')\n",
          "output_type": "stream"
        }
      ],
      "execution_count": null
    },
    {
      "cell_type": "code",
      "source": [
        "train_df.shape"
      ],
      "metadata": {
        "trusted": true,
        "execution": {
          "iopub.status.busy": "2025-09-23T13:23:28.795965Z",
          "iopub.execute_input": "2025-09-23T13:23:28.796409Z",
          "iopub.status.idle": "2025-09-23T13:23:28.807373Z",
          "shell.execute_reply.started": "2025-09-23T13:23:28.796387Z",
          "shell.execute_reply": "2025-09-23T13:23:28.80673Z"
        },
        "id": "ox5RL0zesOO-",
        "outputId": "ea8d94e1-19a7-4f73-b8be-35a6de5d30ff"
      },
      "outputs": [
        {
          "execution_count": 22,
          "output_type": "execute_result",
          "data": {
            "text/plain": "(383249, 32)"
          },
          "metadata": {}
        }
      ],
      "execution_count": null
    },
    {
      "cell_type": "code",
      "source": [
        "from sklearn.model_selection import train_test_split\n",
        "#50% train, 50% temp\n",
        "train_data, temp_data = train_test_split(train_df, test_size=0.5, random_state=42)\n",
        "val_data, test_data = train_test_split(temp_data, test_size=0.4, random_state=42)\n",
        "print(f\"Train size: {len(train_data)} ({len(train_data)/len(train_df):.2%})\")\n",
        "print(f\"Validation size: {len(val_data)} ({len(val_data)/len(train_df):.2%})\")\n",
        "print(f\"Test size: {len(test_data)} ({len(test_data)/len(train_df):.2%})\")"
      ],
      "metadata": {
        "trusted": true,
        "execution": {
          "iopub.status.busy": "2025-09-23T13:23:28.80822Z",
          "iopub.execute_input": "2025-09-23T13:23:28.808496Z",
          "iopub.status.idle": "2025-09-23T13:23:29.210032Z",
          "shell.execute_reply.started": "2025-09-23T13:23:28.808472Z",
          "shell.execute_reply": "2025-09-23T13:23:29.209195Z"
        },
        "id": "CFrYAnZ8sOO-",
        "outputId": "ba8a638f-96ef-4e4b-c447-3ebd669ef64a"
      },
      "outputs": [
        {
          "name": "stdout",
          "text": "Train size: 191624 (50.00%)\nValidation size: 114975 (30.00%)\nTest size: 76650 (20.00%)\n",
          "output_type": "stream"
        }
      ],
      "execution_count": null
    },
    {
      "cell_type": "code",
      "source": [
        "print(train_df.columns)"
      ],
      "metadata": {
        "trusted": true,
        "execution": {
          "iopub.status.busy": "2025-09-23T13:23:29.210952Z",
          "iopub.execute_input": "2025-09-23T13:23:29.211193Z",
          "iopub.status.idle": "2025-09-23T13:23:29.216098Z",
          "shell.execute_reply.started": "2025-09-23T13:23:29.211176Z",
          "shell.execute_reply": "2025-09-23T13:23:29.21513Z"
        },
        "id": "_Izq-jZksOO_",
        "outputId": "0cdf969d-caa3-492b-b764-c1bfa9002e57"
      },
      "outputs": [
        {
          "name": "stdout",
          "text": "Index(['CpuNumberOfCores', 'CpuNumberOfThreads', 'CpuBaseClock', 'CpuCacheL1',\n       'CpuCacheL3', 'CpuFrequency', 'CpuMultiplier', 'CpuProcessSize',\n       'CpuTDP', 'CpuNumberOfTransistors', 'CpuTurboClock', 'GpuBandwidth',\n       'GpuBaseClock', 'GpuDieSize', 'GpuMemoryBus', 'GameResolution',\n       'FPS_yj', 'CpuName', 'CpuMultiplierUnlocked', 'GpuName',\n       'GpuArchitecture', 'GpuBus nterface', 'GpuDirectX', 'GpuMemoryType',\n       'GpuOpenCL', 'GpuOpenGL', 'GpuShaderModel', 'GpuVulkan', 'GameName',\n       'GameSetting', 'Dataset', 'FPS'],\n      dtype='object')\n",
          "output_type": "stream"
        }
      ],
      "execution_count": null
    },
    {
      "cell_type": "code",
      "source": [
        "for df in [train_data, val_data, test_data]:\n",
        "    # CPU engineered features\n",
        "    df[\"CPU_throughput_base\"] = df[\"CpuNumberOfCores\"] * df[\"CpuBaseClock\"]\n",
        "    df[\"CPU_throughput_turbo\"] = df[\"CpuNumberOfCores\"] * df[\"CpuTurboClock\"]\n",
        "    df[\"CPU_cache_total\"] = df[\"CpuCacheL1\"] + df[\"CpuCacheL3\"]\n",
        "    df[\"CPU_parallel_power\"] = df[\"CpuFrequency\"] * df[\"CpuNumberOfThreads\"]\n",
        "    df[\"CPU_efficiency\"] = df[\"CpuTDP\"] / (df[\"CpuProcessSize\"] + 1e-5)\n",
        "\n",
        "    # GPU engineered features\n",
        "    df[\"GPU_memory_speed\"] = df[\"GpuBandwidth\"] * df[\"GpuBaseClock\"]\n",
        "    df[\"GPU_mem_throughput\"] = df[\"GpuMemoryBus\"] * df[\"GpuBandwidth\"]\n",
        "\n",
        "    # CPU–GPU balance\n",
        "    df[\"CPU_GPU_balance\"] = df[\"CPU_throughput_base\"] / (df[\"GpuBandwidth\"] + 1e-5)\n",
        "    df[\"Cache_GPU_ratio\"] = df[\"CpuCacheL3\"] / (df[\"GpuBandwidth\"] + 1e-5)"
      ],
      "metadata": {
        "trusted": true,
        "execution": {
          "iopub.status.busy": "2025-09-23T13:23:29.217006Z",
          "iopub.execute_input": "2025-09-23T13:23:29.217277Z",
          "iopub.status.idle": "2025-09-23T13:23:29.273702Z",
          "shell.execute_reply.started": "2025-09-23T13:23:29.217254Z",
          "shell.execute_reply": "2025-09-23T13:23:29.272937Z"
        },
        "id": "csR1ARrmsOO_"
      },
      "outputs": [],
      "execution_count": null
    },
    {
      "cell_type": "code",
      "source": [
        "train_data.head(5)"
      ],
      "metadata": {
        "trusted": true,
        "execution": {
          "iopub.status.busy": "2025-09-23T13:23:29.27458Z",
          "iopub.execute_input": "2025-09-23T13:23:29.275033Z",
          "iopub.status.idle": "2025-09-23T13:23:29.299401Z",
          "shell.execute_reply.started": "2025-09-23T13:23:29.274999Z",
          "shell.execute_reply": "2025-09-23T13:23:29.298668Z"
        },
        "id": "y-o8r0wcsOO_",
        "outputId": "b0dd158b-8b63-4916-9aa2-c5ca4da019a6"
      },
      "outputs": [
        {
          "execution_count": 26,
          "output_type": "execute_result",
          "data": {
            "text/plain": "        CpuNumberOfCores  CpuNumberOfThreads  CpuBaseClock  CpuCacheL1  \\\n239244               4.0                 4.0         100.0       256.0   \n288979               4.0                 8.0         100.0       256.0   \n203188               8.0                16.0         100.0       768.0   \n22891                4.0                 8.0         100.0       256.0   \n45769                4.0                 8.0         133.0       256.0   \n\n        CpuCacheL3  CpuFrequency  CpuMultiplier  CpuProcessSize  CpuTDP  \\\n239244         6.0        3000.0           30.0            14.0    65.0   \n288979         8.0        4000.0           40.0            14.0    95.0   \n203188        16.0        3400.0           34.0            14.0    95.0   \n22891          8.0        3500.0           35.0            22.0    77.0   \n45769          8.0        2800.0           21.0            45.0    95.0   \n\n        CpuNumberOfTransistors  ...    FPS  CPU_throughput_base  \\\n239244                  1400.0  ...   60.0                400.0   \n288979                  1400.0  ...  280.0                400.0   \n203188                  4800.0  ...  102.6                800.0   \n22891                   1400.0  ...   70.0                400.0   \n45769                    774.0  ...   50.0                532.0   \n\n        CPU_throughput_turbo  CPU_cache_total  CPU_parallel_power  \\\n239244               14000.0            262.0             12000.0   \n288979               16800.0            264.0             32000.0   \n203188               30400.0            784.0             54400.0   \n22891                15600.0            264.0             28000.0   \n45769                13864.0            264.0             22400.0   \n\n        CPU_efficiency  GPU_memory_speed GPU_mem_throughput CPU_GPU_balance  \\\n239244        4.642854       117067200.0          8073600.0        0.004756   \n288979        6.785709       385987800.0         65612800.0        0.001561   \n203188        6.785709       831600000.0        216832000.0        0.001299   \n22891         3.499998       385987800.0         65612800.0        0.001561   \n45769         2.111111        80179200.0         11059200.0        0.006157   \n\n       Cache_GPU_ratio  \n239244        0.000071  \n288979        0.000031  \n203188        0.000026  \n22891         0.000031  \n45769         0.000093  \n\n[5 rows x 41 columns]",
            "text/html": "<div>\n<style scoped>\n    .dataframe tbody tr th:only-of-type {\n        vertical-align: middle;\n    }\n\n    .dataframe tbody tr th {\n        vertical-align: top;\n    }\n\n    .dataframe thead th {\n        text-align: right;\n    }\n</style>\n<table border=\"1\" class=\"dataframe\">\n  <thead>\n    <tr style=\"text-align: right;\">\n      <th></th>\n      <th>CpuNumberOfCores</th>\n      <th>CpuNumberOfThreads</th>\n      <th>CpuBaseClock</th>\n      <th>CpuCacheL1</th>\n      <th>CpuCacheL3</th>\n      <th>CpuFrequency</th>\n      <th>CpuMultiplier</th>\n      <th>CpuProcessSize</th>\n      <th>CpuTDP</th>\n      <th>CpuNumberOfTransistors</th>\n      <th>...</th>\n      <th>FPS</th>\n      <th>CPU_throughput_base</th>\n      <th>CPU_throughput_turbo</th>\n      <th>CPU_cache_total</th>\n      <th>CPU_parallel_power</th>\n      <th>CPU_efficiency</th>\n      <th>GPU_memory_speed</th>\n      <th>GPU_mem_throughput</th>\n      <th>CPU_GPU_balance</th>\n      <th>Cache_GPU_ratio</th>\n    </tr>\n  </thead>\n  <tbody>\n    <tr>\n      <th>239244</th>\n      <td>4.0</td>\n      <td>4.0</td>\n      <td>100.0</td>\n      <td>256.0</td>\n      <td>6.0</td>\n      <td>3000.0</td>\n      <td>30.0</td>\n      <td>14.0</td>\n      <td>65.0</td>\n      <td>1400.0</td>\n      <td>...</td>\n      <td>60.0</td>\n      <td>400.0</td>\n      <td>14000.0</td>\n      <td>262.0</td>\n      <td>12000.0</td>\n      <td>4.642854</td>\n      <td>117067200.0</td>\n      <td>8073600.0</td>\n      <td>0.004756</td>\n      <td>0.000071</td>\n    </tr>\n    <tr>\n      <th>288979</th>\n      <td>4.0</td>\n      <td>8.0</td>\n      <td>100.0</td>\n      <td>256.0</td>\n      <td>8.0</td>\n      <td>4000.0</td>\n      <td>40.0</td>\n      <td>14.0</td>\n      <td>95.0</td>\n      <td>1400.0</td>\n      <td>...</td>\n      <td>280.0</td>\n      <td>400.0</td>\n      <td>16800.0</td>\n      <td>264.0</td>\n      <td>32000.0</td>\n      <td>6.785709</td>\n      <td>385987800.0</td>\n      <td>65612800.0</td>\n      <td>0.001561</td>\n      <td>0.000031</td>\n    </tr>\n    <tr>\n      <th>203188</th>\n      <td>8.0</td>\n      <td>16.0</td>\n      <td>100.0</td>\n      <td>768.0</td>\n      <td>16.0</td>\n      <td>3400.0</td>\n      <td>34.0</td>\n      <td>14.0</td>\n      <td>95.0</td>\n      <td>4800.0</td>\n      <td>...</td>\n      <td>102.6</td>\n      <td>800.0</td>\n      <td>30400.0</td>\n      <td>784.0</td>\n      <td>54400.0</td>\n      <td>6.785709</td>\n      <td>831600000.0</td>\n      <td>216832000.0</td>\n      <td>0.001299</td>\n      <td>0.000026</td>\n    </tr>\n    <tr>\n      <th>22891</th>\n      <td>4.0</td>\n      <td>8.0</td>\n      <td>100.0</td>\n      <td>256.0</td>\n      <td>8.0</td>\n      <td>3500.0</td>\n      <td>35.0</td>\n      <td>22.0</td>\n      <td>77.0</td>\n      <td>1400.0</td>\n      <td>...</td>\n      <td>70.0</td>\n      <td>400.0</td>\n      <td>15600.0</td>\n      <td>264.0</td>\n      <td>28000.0</td>\n      <td>3.499998</td>\n      <td>385987800.0</td>\n      <td>65612800.0</td>\n      <td>0.001561</td>\n      <td>0.000031</td>\n    </tr>\n    <tr>\n      <th>45769</th>\n      <td>4.0</td>\n      <td>8.0</td>\n      <td>133.0</td>\n      <td>256.0</td>\n      <td>8.0</td>\n      <td>2800.0</td>\n      <td>21.0</td>\n      <td>45.0</td>\n      <td>95.0</td>\n      <td>774.0</td>\n      <td>...</td>\n      <td>50.0</td>\n      <td>532.0</td>\n      <td>13864.0</td>\n      <td>264.0</td>\n      <td>22400.0</td>\n      <td>2.111111</td>\n      <td>80179200.0</td>\n      <td>11059200.0</td>\n      <td>0.006157</td>\n      <td>0.000093</td>\n    </tr>\n  </tbody>\n</table>\n<p>5 rows × 41 columns</p>\n</div>"
          },
          "metadata": {}
        }
      ],
      "execution_count": null
    },
    {
      "cell_type": "code",
      "source": [],
      "metadata": {
        "trusted": true,
        "id": "jrmDKVzssOO_"
      },
      "outputs": [],
      "execution_count": null
    },
    {
      "cell_type": "code",
      "source": [
        "\n",
        "# Identify categorical features\n",
        "categorical_features = train_data.select_dtypes(exclude=[np.number]).columns\n",
        "\n",
        "# Create a copy to avoid modifying original\n",
        "train_encoded = train_data.copy()\n",
        "\n",
        "# Target encoding for each categorical column\n",
        "target_encoders = {}\n",
        "\n",
        "for col in categorical_features:\n",
        "    # Compute mean FPS per category (using only training set)\n",
        "    mapping = train_encoded.groupby(col)[\"FPS\"].mean().to_dict()\n",
        "    target_encoders[col] = mapping\n",
        "\n",
        "    # Replace categories with their mean FPS\n",
        "    train_encoded[col] = train_encoded[col].map(mapping)\n",
        "\n",
        "print(\"Applied target encoding for:\", list(categorical_features))"
      ],
      "metadata": {
        "trusted": true,
        "execution": {
          "iopub.status.busy": "2025-09-23T13:23:29.300403Z",
          "iopub.execute_input": "2025-09-23T13:23:29.300645Z",
          "iopub.status.idle": "2025-09-23T13:23:29.783796Z",
          "shell.execute_reply.started": "2025-09-23T13:23:29.300629Z",
          "shell.execute_reply": "2025-09-23T13:23:29.78302Z"
        },
        "id": "HXjuOtdEsOO_",
        "outputId": "94cb3d56-bd60-44c8-d67c-38e6dda7acbf"
      },
      "outputs": [
        {
          "name": "stdout",
          "text": "Applied target encoding for: ['CpuName', 'CpuMultiplierUnlocked', 'GpuName', 'GpuArchitecture', 'GpuBus nterface', 'GpuDirectX', 'GpuMemoryType', 'GpuOpenCL', 'GpuOpenGL', 'GpuShaderModel', 'GpuVulkan', 'GameName', 'GameSetting', 'Dataset']\n",
          "output_type": "stream"
        }
      ],
      "execution_count": null
    },
    {
      "cell_type": "code",
      "source": [
        "train_encoded.shape"
      ],
      "metadata": {
        "trusted": true,
        "execution": {
          "iopub.status.busy": "2025-09-23T13:23:29.784569Z",
          "iopub.execute_input": "2025-09-23T13:23:29.785226Z",
          "iopub.status.idle": "2025-09-23T13:23:29.790396Z",
          "shell.execute_reply.started": "2025-09-23T13:23:29.785205Z",
          "shell.execute_reply": "2025-09-23T13:23:29.789733Z"
        },
        "id": "G1_lznhgsOO_",
        "outputId": "ac3b07a1-ce88-46d2-dc33-26eedafdd874"
      },
      "outputs": [
        {
          "execution_count": 28,
          "output_type": "execute_result",
          "data": {
            "text/plain": "(191624, 41)"
          },
          "metadata": {}
        }
      ],
      "execution_count": null
    },
    {
      "cell_type": "code",
      "source": [
        "train_encoded.head(5)"
      ],
      "metadata": {
        "trusted": true,
        "execution": {
          "iopub.status.busy": "2025-09-23T13:23:29.791284Z",
          "iopub.execute_input": "2025-09-23T13:23:29.791513Z",
          "iopub.status.idle": "2025-09-23T13:23:29.822183Z",
          "shell.execute_reply.started": "2025-09-23T13:23:29.791496Z",
          "shell.execute_reply": "2025-09-23T13:23:29.821384Z"
        },
        "id": "kLH9M_70sOO_",
        "outputId": "0100df3f-2da5-4162-bfe7-d0ddda8ad291"
      },
      "outputs": [
        {
          "execution_count": 29,
          "output_type": "execute_result",
          "data": {
            "text/plain": "        CpuNumberOfCores  CpuNumberOfThreads  CpuBaseClock  CpuCacheL1  \\\n239244               4.0                 4.0         100.0       256.0   \n288979               4.0                 8.0         100.0       256.0   \n203188               8.0                16.0         100.0       768.0   \n22891                4.0                 8.0         100.0       256.0   \n45769                4.0                 8.0         133.0       256.0   \n\n        CpuCacheL3  CpuFrequency  CpuMultiplier  CpuProcessSize  CpuTDP  \\\n239244         6.0        3000.0           30.0            14.0    65.0   \n288979         8.0        4000.0           40.0            14.0    95.0   \n203188        16.0        3400.0           34.0            14.0    95.0   \n22891          8.0        3500.0           35.0            22.0    77.0   \n45769          8.0        2800.0           21.0            45.0    95.0   \n\n        CpuNumberOfTransistors  ...    FPS  CPU_throughput_base  \\\n239244                  1400.0  ...   60.0                400.0   \n288979                  1400.0  ...  280.0                400.0   \n203188                  4800.0  ...  102.6                800.0   \n22891                   1400.0  ...   70.0                400.0   \n45769                    774.0  ...   50.0                532.0   \n\n        CPU_throughput_turbo  CPU_cache_total  CPU_parallel_power  \\\n239244               14000.0            262.0             12000.0   \n288979               16800.0            264.0             32000.0   \n203188               30400.0            784.0             54400.0   \n22891                15600.0            264.0             28000.0   \n45769                13864.0            264.0             22400.0   \n\n        CPU_efficiency  GPU_memory_speed  GPU_mem_throughput  CPU_GPU_balance  \\\n239244        4.642854       117067200.0           8073600.0         0.004756   \n288979        6.785709       385987800.0          65612800.0         0.001561   \n203188        6.785709       831600000.0         216832000.0         0.001299   \n22891         3.499998       385987800.0          65612800.0         0.001561   \n45769         2.111111        80179200.0          11059200.0         0.006157   \n\n        Cache_GPU_ratio  \n239244         0.000071  \n288979         0.000031  \n203188         0.000026  \n22891          0.000031  \n45769          0.000093  \n\n[5 rows x 41 columns]",
            "text/html": "<div>\n<style scoped>\n    .dataframe tbody tr th:only-of-type {\n        vertical-align: middle;\n    }\n\n    .dataframe tbody tr th {\n        vertical-align: top;\n    }\n\n    .dataframe thead th {\n        text-align: right;\n    }\n</style>\n<table border=\"1\" class=\"dataframe\">\n  <thead>\n    <tr style=\"text-align: right;\">\n      <th></th>\n      <th>CpuNumberOfCores</th>\n      <th>CpuNumberOfThreads</th>\n      <th>CpuBaseClock</th>\n      <th>CpuCacheL1</th>\n      <th>CpuCacheL3</th>\n      <th>CpuFrequency</th>\n      <th>CpuMultiplier</th>\n      <th>CpuProcessSize</th>\n      <th>CpuTDP</th>\n      <th>CpuNumberOfTransistors</th>\n      <th>...</th>\n      <th>FPS</th>\n      <th>CPU_throughput_base</th>\n      <th>CPU_throughput_turbo</th>\n      <th>CPU_cache_total</th>\n      <th>CPU_parallel_power</th>\n      <th>CPU_efficiency</th>\n      <th>GPU_memory_speed</th>\n      <th>GPU_mem_throughput</th>\n      <th>CPU_GPU_balance</th>\n      <th>Cache_GPU_ratio</th>\n    </tr>\n  </thead>\n  <tbody>\n    <tr>\n      <th>239244</th>\n      <td>4.0</td>\n      <td>4.0</td>\n      <td>100.0</td>\n      <td>256.0</td>\n      <td>6.0</td>\n      <td>3000.0</td>\n      <td>30.0</td>\n      <td>14.0</td>\n      <td>65.0</td>\n      <td>1400.0</td>\n      <td>...</td>\n      <td>60.0</td>\n      <td>400.0</td>\n      <td>14000.0</td>\n      <td>262.0</td>\n      <td>12000.0</td>\n      <td>4.642854</td>\n      <td>117067200.0</td>\n      <td>8073600.0</td>\n      <td>0.004756</td>\n      <td>0.000071</td>\n    </tr>\n    <tr>\n      <th>288979</th>\n      <td>4.0</td>\n      <td>8.0</td>\n      <td>100.0</td>\n      <td>256.0</td>\n      <td>8.0</td>\n      <td>4000.0</td>\n      <td>40.0</td>\n      <td>14.0</td>\n      <td>95.0</td>\n      <td>1400.0</td>\n      <td>...</td>\n      <td>280.0</td>\n      <td>400.0</td>\n      <td>16800.0</td>\n      <td>264.0</td>\n      <td>32000.0</td>\n      <td>6.785709</td>\n      <td>385987800.0</td>\n      <td>65612800.0</td>\n      <td>0.001561</td>\n      <td>0.000031</td>\n    </tr>\n    <tr>\n      <th>203188</th>\n      <td>8.0</td>\n      <td>16.0</td>\n      <td>100.0</td>\n      <td>768.0</td>\n      <td>16.0</td>\n      <td>3400.0</td>\n      <td>34.0</td>\n      <td>14.0</td>\n      <td>95.0</td>\n      <td>4800.0</td>\n      <td>...</td>\n      <td>102.6</td>\n      <td>800.0</td>\n      <td>30400.0</td>\n      <td>784.0</td>\n      <td>54400.0</td>\n      <td>6.785709</td>\n      <td>831600000.0</td>\n      <td>216832000.0</td>\n      <td>0.001299</td>\n      <td>0.000026</td>\n    </tr>\n    <tr>\n      <th>22891</th>\n      <td>4.0</td>\n      <td>8.0</td>\n      <td>100.0</td>\n      <td>256.0</td>\n      <td>8.0</td>\n      <td>3500.0</td>\n      <td>35.0</td>\n      <td>22.0</td>\n      <td>77.0</td>\n      <td>1400.0</td>\n      <td>...</td>\n      <td>70.0</td>\n      <td>400.0</td>\n      <td>15600.0</td>\n      <td>264.0</td>\n      <td>28000.0</td>\n      <td>3.499998</td>\n      <td>385987800.0</td>\n      <td>65612800.0</td>\n      <td>0.001561</td>\n      <td>0.000031</td>\n    </tr>\n    <tr>\n      <th>45769</th>\n      <td>4.0</td>\n      <td>8.0</td>\n      <td>133.0</td>\n      <td>256.0</td>\n      <td>8.0</td>\n      <td>2800.0</td>\n      <td>21.0</td>\n      <td>45.0</td>\n      <td>95.0</td>\n      <td>774.0</td>\n      <td>...</td>\n      <td>50.0</td>\n      <td>532.0</td>\n      <td>13864.0</td>\n      <td>264.0</td>\n      <td>22400.0</td>\n      <td>2.111111</td>\n      <td>80179200.0</td>\n      <td>11059200.0</td>\n      <td>0.006157</td>\n      <td>0.000093</td>\n    </tr>\n  </tbody>\n</table>\n<p>5 rows × 41 columns</p>\n</div>"
          },
          "metadata": {}
        }
      ],
      "execution_count": null
    },
    {
      "cell_type": "code",
      "source": [
        "print(train_encoded.columns)"
      ],
      "metadata": {
        "trusted": true,
        "execution": {
          "iopub.status.busy": "2025-09-23T13:23:29.823027Z",
          "iopub.execute_input": "2025-09-23T13:23:29.823295Z",
          "iopub.status.idle": "2025-09-23T13:23:29.837597Z",
          "shell.execute_reply.started": "2025-09-23T13:23:29.823273Z",
          "shell.execute_reply": "2025-09-23T13:23:29.836948Z"
        },
        "id": "GyRtGLJysOO_",
        "outputId": "8d898fad-ea72-46d7-bde2-0d30c8688fc9"
      },
      "outputs": [
        {
          "name": "stdout",
          "text": "Index(['CpuNumberOfCores', 'CpuNumberOfThreads', 'CpuBaseClock', 'CpuCacheL1',\n       'CpuCacheL3', 'CpuFrequency', 'CpuMultiplier', 'CpuProcessSize',\n       'CpuTDP', 'CpuNumberOfTransistors', 'CpuTurboClock', 'GpuBandwidth',\n       'GpuBaseClock', 'GpuDieSize', 'GpuMemoryBus', 'GameResolution',\n       'FPS_yj', 'CpuName', 'CpuMultiplierUnlocked', 'GpuName',\n       'GpuArchitecture', 'GpuBus nterface', 'GpuDirectX', 'GpuMemoryType',\n       'GpuOpenCL', 'GpuOpenGL', 'GpuShaderModel', 'GpuVulkan', 'GameName',\n       'GameSetting', 'Dataset', 'FPS', 'CPU_throughput_base',\n       'CPU_throughput_turbo', 'CPU_cache_total', 'CPU_parallel_power',\n       'CPU_efficiency', 'GPU_memory_speed', 'GPU_mem_throughput',\n       'CPU_GPU_balance', 'Cache_GPU_ratio'],\n      dtype='object')\n",
          "output_type": "stream"
        }
      ],
      "execution_count": null
    },
    {
      "cell_type": "code",
      "source": [
        "numerical_col_names = train_df.select_dtypes(include=np.number).columns.tolist()\n",
        "\n",
        "# Get the list of non-numerical column names\n",
        "non_numerical_col_names = train_df.select_dtypes(exclude=np.number).columns.tolist()\n",
        "\n",
        "print(f\"Numerical column names: {numerical_col_names}\")\n",
        "print(f\"Non-numerical column names: {non_numerical_col_names}\")\n"
      ],
      "metadata": {
        "trusted": true,
        "execution": {
          "iopub.status.busy": "2025-09-23T13:23:29.838429Z",
          "iopub.execute_input": "2025-09-23T13:23:29.838783Z",
          "iopub.status.idle": "2025-09-23T13:23:29.975658Z",
          "shell.execute_reply.started": "2025-09-23T13:23:29.838762Z",
          "shell.execute_reply": "2025-09-23T13:23:29.974911Z"
        },
        "id": "gOwBKvqIsOO_",
        "outputId": "accfd2d1-3462-47b6-fde9-905014e68dda"
      },
      "outputs": [
        {
          "name": "stdout",
          "text": "Numerical column names: ['CpuNumberOfCores', 'CpuNumberOfThreads', 'CpuBaseClock', 'CpuCacheL1', 'CpuCacheL3', 'CpuFrequency', 'CpuMultiplier', 'CpuProcessSize', 'CpuTDP', 'CpuNumberOfTransistors', 'CpuTurboClock', 'GpuBandwidth', 'GpuBaseClock', 'GpuDieSize', 'GpuMemoryBus', 'GameResolution', 'FPS_yj', 'FPS']\nNon-numerical column names: ['CpuName', 'CpuMultiplierUnlocked', 'GpuName', 'GpuArchitecture', 'GpuBus nterface', 'GpuDirectX', 'GpuMemoryType', 'GpuOpenCL', 'GpuOpenGL', 'GpuShaderModel', 'GpuVulkan', 'GameName', 'GameSetting', 'Dataset']\n",
          "output_type": "stream"
        }
      ],
      "execution_count": null
    },
    {
      "cell_type": "code",
      "source": [
        "# Identify categorical features\n",
        "categorical_features = val_data.select_dtypes(exclude=[np.number]).columns\n",
        "\n",
        "# Create a copy to avoid modifying original\n",
        "val_encoded = val_data.copy()\n",
        "\n",
        "# Target encoding for each categorical column\n",
        "target_encoders = {}\n",
        "\n",
        "for col in categorical_features:\n",
        "    # Compute mean FPS per category (using only validation set)\n",
        "    mapping = val_encoded.groupby(col)[\"FPS\"].mean().to_dict()\n",
        "    target_encoders[col] = mapping\n",
        "\n",
        "    # Replace categories with their mean FPS\n",
        "    val_encoded[col] = val_encoded[col].map(mapping)\n",
        "\n",
        "print(\"Applied target encoding for:\", list(categorical_features))"
      ],
      "metadata": {
        "trusted": true,
        "execution": {
          "iopub.status.busy": "2025-09-23T13:23:29.97645Z",
          "iopub.execute_input": "2025-09-23T13:23:29.976663Z",
          "iopub.status.idle": "2025-09-23T13:23:30.276463Z",
          "shell.execute_reply.started": "2025-09-23T13:23:29.976645Z",
          "shell.execute_reply": "2025-09-23T13:23:30.27562Z"
        },
        "id": "p5aOM83rsOO_",
        "outputId": "7bb25fb6-d748-40dd-cfa0-942b444f0c58"
      },
      "outputs": [
        {
          "name": "stdout",
          "text": "Applied target encoding for: ['CpuName', 'CpuMultiplierUnlocked', 'GpuName', 'GpuArchitecture', 'GpuBus nterface', 'GpuDirectX', 'GpuMemoryType', 'GpuOpenCL', 'GpuOpenGL', 'GpuShaderModel', 'GpuVulkan', 'GameName', 'GameSetting', 'Dataset']\n",
          "output_type": "stream"
        }
      ],
      "execution_count": null
    },
    {
      "cell_type": "code",
      "source": [
        "print(val_encoded.shape)"
      ],
      "metadata": {
        "trusted": true,
        "execution": {
          "iopub.status.busy": "2025-09-23T13:23:30.277292Z",
          "iopub.execute_input": "2025-09-23T13:23:30.277596Z",
          "iopub.status.idle": "2025-09-23T13:23:30.2827Z",
          "shell.execute_reply.started": "2025-09-23T13:23:30.277571Z",
          "shell.execute_reply": "2025-09-23T13:23:30.281817Z"
        },
        "id": "5SiPU78QsOO_",
        "outputId": "c5657f82-162a-44c5-d592-5570b36ee06f"
      },
      "outputs": [
        {
          "name": "stdout",
          "text": "(114975, 41)\n",
          "output_type": "stream"
        }
      ],
      "execution_count": null
    },
    {
      "cell_type": "code",
      "source": [
        "val_encoded.columns"
      ],
      "metadata": {
        "trusted": true,
        "execution": {
          "iopub.status.busy": "2025-09-23T13:23:30.28343Z",
          "iopub.execute_input": "2025-09-23T13:23:30.283646Z",
          "iopub.status.idle": "2025-09-23T13:23:30.301917Z",
          "shell.execute_reply.started": "2025-09-23T13:23:30.283628Z",
          "shell.execute_reply": "2025-09-23T13:23:30.301119Z"
        },
        "id": "SA4O6NhBsOO_",
        "outputId": "8b02f140-883d-41a6-a0cd-90868fbd23d0"
      },
      "outputs": [
        {
          "execution_count": 34,
          "output_type": "execute_result",
          "data": {
            "text/plain": "Index(['CpuNumberOfCores', 'CpuNumberOfThreads', 'CpuBaseClock', 'CpuCacheL1',\n       'CpuCacheL3', 'CpuFrequency', 'CpuMultiplier', 'CpuProcessSize',\n       'CpuTDP', 'CpuNumberOfTransistors', 'CpuTurboClock', 'GpuBandwidth',\n       'GpuBaseClock', 'GpuDieSize', 'GpuMemoryBus', 'GameResolution',\n       'FPS_yj', 'CpuName', 'CpuMultiplierUnlocked', 'GpuName',\n       'GpuArchitecture', 'GpuBus nterface', 'GpuDirectX', 'GpuMemoryType',\n       'GpuOpenCL', 'GpuOpenGL', 'GpuShaderModel', 'GpuVulkan', 'GameName',\n       'GameSetting', 'Dataset', 'FPS', 'CPU_throughput_base',\n       'CPU_throughput_turbo', 'CPU_cache_total', 'CPU_parallel_power',\n       'CPU_efficiency', 'GPU_memory_speed', 'GPU_mem_throughput',\n       'CPU_GPU_balance', 'Cache_GPU_ratio'],\n      dtype='object')"
          },
          "metadata": {}
        }
      ],
      "execution_count": null
    },
    {
      "cell_type": "code",
      "source": [
        "# Identify categorical features\n",
        "categorical_features = test_data.select_dtypes(exclude=[np.number]).columns\n",
        "\n",
        "# Create a copy to avoid modifying original\n",
        "test_encoded = test_data.copy()\n",
        "\n",
        "# Target encoding for each categorical column\n",
        "target_encoders = {}\n",
        "\n",
        "for col in categorical_features:\n",
        "    # Compute mean FPS per category (using only test set)\n",
        "    mapping = test_encoded.groupby(col)[\"FPS\"].mean().to_dict()\n",
        "    target_encoders[col] = mapping\n",
        "\n",
        "    # Replace categories with their mean FPS\n",
        "    test_encoded[col] = test_encoded[col].map(mapping)\n",
        "\n",
        "print(\"Applied target encoding for:\", list(categorical_features))"
      ],
      "metadata": {
        "trusted": true,
        "execution": {
          "iopub.status.busy": "2025-09-23T13:23:30.302749Z",
          "iopub.execute_input": "2025-09-23T13:23:30.30306Z",
          "iopub.status.idle": "2025-09-23T13:23:30.512545Z",
          "shell.execute_reply.started": "2025-09-23T13:23:30.303041Z",
          "shell.execute_reply": "2025-09-23T13:23:30.511868Z"
        },
        "id": "hwqv4B3_sOO_",
        "outputId": "30f64289-3a4f-4b65-9338-379f3ff05006"
      },
      "outputs": [
        {
          "name": "stdout",
          "text": "Applied target encoding for: ['CpuName', 'CpuMultiplierUnlocked', 'GpuName', 'GpuArchitecture', 'GpuBus nterface', 'GpuDirectX', 'GpuMemoryType', 'GpuOpenCL', 'GpuOpenGL', 'GpuShaderModel', 'GpuVulkan', 'GameName', 'GameSetting', 'Dataset']\n",
          "output_type": "stream"
        }
      ],
      "execution_count": null
    },
    {
      "cell_type": "code",
      "source": [
        "print(test_encoded.shape)\n",
        "test_encoded.columns"
      ],
      "metadata": {
        "trusted": true,
        "execution": {
          "iopub.status.busy": "2025-09-23T13:23:30.513389Z",
          "iopub.execute_input": "2025-09-23T13:23:30.513656Z",
          "iopub.status.idle": "2025-09-23T13:23:30.519561Z",
          "shell.execute_reply.started": "2025-09-23T13:23:30.513636Z",
          "shell.execute_reply": "2025-09-23T13:23:30.518945Z"
        },
        "id": "nJZ1OHL3sOO_",
        "outputId": "d3650469-f0d1-4e49-acd8-05f6a4e62ffa"
      },
      "outputs": [
        {
          "name": "stdout",
          "text": "(76650, 41)\n",
          "output_type": "stream"
        },
        {
          "execution_count": 36,
          "output_type": "execute_result",
          "data": {
            "text/plain": "Index(['CpuNumberOfCores', 'CpuNumberOfThreads', 'CpuBaseClock', 'CpuCacheL1',\n       'CpuCacheL3', 'CpuFrequency', 'CpuMultiplier', 'CpuProcessSize',\n       'CpuTDP', 'CpuNumberOfTransistors', 'CpuTurboClock', 'GpuBandwidth',\n       'GpuBaseClock', 'GpuDieSize', 'GpuMemoryBus', 'GameResolution',\n       'FPS_yj', 'CpuName', 'CpuMultiplierUnlocked', 'GpuName',\n       'GpuArchitecture', 'GpuBus nterface', 'GpuDirectX', 'GpuMemoryType',\n       'GpuOpenCL', 'GpuOpenGL', 'GpuShaderModel', 'GpuVulkan', 'GameName',\n       'GameSetting', 'Dataset', 'FPS', 'CPU_throughput_base',\n       'CPU_throughput_turbo', 'CPU_cache_total', 'CPU_parallel_power',\n       'CPU_efficiency', 'GPU_memory_speed', 'GPU_mem_throughput',\n       'CPU_GPU_balance', 'Cache_GPU_ratio'],\n      dtype='object')"
          },
          "metadata": {}
        }
      ],
      "execution_count": null
    },
    {
      "cell_type": "code",
      "source": [
        "#Feature Importance Selection"
      ],
      "metadata": {
        "trusted": true,
        "execution": {
          "iopub.status.busy": "2025-09-23T13:23:30.520285Z",
          "iopub.execute_input": "2025-09-23T13:23:30.520551Z",
          "iopub.status.idle": "2025-09-23T13:23:30.533919Z",
          "shell.execute_reply.started": "2025-09-23T13:23:30.520527Z",
          "shell.execute_reply": "2025-09-23T13:23:30.533049Z"
        },
        "id": "vW7KtMz4sOO_"
      },
      "outputs": [],
      "execution_count": null
    },
    {
      "cell_type": "code",
      "source": [
        "from sklearn.ensemble import RandomForestRegressor\n",
        "from sklearn.inspection import permutation_importance"
      ],
      "metadata": {
        "trusted": true,
        "execution": {
          "iopub.status.busy": "2025-09-23T13:23:30.534796Z",
          "iopub.execute_input": "2025-09-23T13:23:30.535126Z",
          "iopub.status.idle": "2025-09-23T13:23:30.923382Z",
          "shell.execute_reply.started": "2025-09-23T13:23:30.535101Z",
          "shell.execute_reply": "2025-09-23T13:23:30.922583Z"
        },
        "id": "Mks24ZRJsOPC"
      },
      "outputs": [],
      "execution_count": null
    },
    {
      "cell_type": "code",
      "source": [
        "# choose target column (use transformed target for training)\n",
        "y_col = \"FPS_yj\"   # change to \"FPS\" if you want to operate on original scale instead\n",
        "\n",
        "# Prepare X, y from existing splits\n",
        "drop_targets = [c for c in [\"FPS\", \"FPS_yj\"] if c in train_data.columns]\n",
        "X_train = train_encoded.drop(columns=drop_targets)\n",
        "y_train = train_encoded[y_col]\n",
        "\n",
        "X_val = val_encoded.drop(columns=drop_targets)\n",
        "y_val = val_encoded[y_col]\n",
        "\n",
        "X_test = test_encoded.drop(columns=drop_targets)\n",
        "y_test = test_encoded[y_col]\n"
      ],
      "metadata": {
        "trusted": true,
        "execution": {
          "iopub.status.busy": "2025-09-23T13:23:30.924299Z",
          "iopub.execute_input": "2025-09-23T13:23:30.924583Z",
          "iopub.status.idle": "2025-09-23T13:23:31.005933Z",
          "shell.execute_reply.started": "2025-09-23T13:23:30.924559Z",
          "shell.execute_reply": "2025-09-23T13:23:31.005094Z"
        },
        "id": "IN_mPN4ZsOPC"
      },
      "outputs": [],
      "execution_count": null
    },
    {
      "cell_type": "code",
      "source": [
        "rf = RandomForestRegressor(n_estimators=300, n_jobs=-1, random_state=42)\n",
        "rf.fit(X_train, y_train)\n",
        "\n",
        "feat_imp = pd.Series(rf.feature_importances_, index=X_train.columns).sort_values(ascending=False)\n",
        "print(\"\\nTop 20 features by tree importance:\")\n",
        "print(feat_imp.head(20))\n",
        "\n",
        "# plot top 20\n",
        "plt.figure(figsize=(8,6))\n",
        "feat_imp.head(20).sort_values().plot(kind=\"barh\")\n",
        "plt.title(\"Top 20 feature importances (RandomForest)\")\n",
        "plt.show()\n",
        "\n"
      ],
      "metadata": {
        "trusted": true,
        "execution": {
          "iopub.status.busy": "2025-09-23T13:23:31.006689Z",
          "iopub.execute_input": "2025-09-23T13:23:31.007023Z",
          "iopub.status.idle": "2025-09-23T13:26:42.27012Z",
          "shell.execute_reply.started": "2025-09-23T13:23:31.006997Z",
          "shell.execute_reply": "2025-09-23T13:26:42.269274Z"
        },
        "id": "MxUmgxpgsOPC",
        "outputId": "74a78e42-517f-4981-e456-74500a58b888"
      },
      "outputs": [
        {
          "name": "stdout",
          "text": "\nTop 20 features by tree importance:\nGameName                0.386303\nCpuName                 0.194219\nGpuName                 0.178214\nGameSetting             0.064936\nGPU_memory_speed        0.039342\nGameResolution          0.016808\nCache_GPU_ratio         0.011782\nCPU_GPU_balance         0.011714\nCpuTurboClock           0.009483\nGpuBaseClock            0.008183\nCPU_throughput_turbo    0.008033\nCPU_parallel_power      0.007479\nCPU_efficiency          0.006717\nCpuMultiplier           0.006349\nCpuFrequency            0.005123\nGpuDieSize              0.004909\nGpuBandwidth            0.004569\nGPU_mem_throughput      0.004039\nCpuTDP                  0.003791\nDataset                 0.003257\ndtype: float64\n",
          "output_type": "stream"
        },
        {
          "output_type": "display_data",
          "data": {
            "text/plain": "<Figure size 800x600 with 1 Axes>",
            "image/png": "[encoded data removed]"
          },
          "metadata": {}
        }
      ],
      "execution_count": null
    },
    {
      "cell_type": "code",
      "source": [
        "top_k = 20\n",
        "selected_by_topk = feat_imp.head(top_k).index.tolist()\n",
        "\n",
        "# choose which selection to apply:\n",
        "selected_features = selected_by_topk\n",
        "# ---- 5) Shrink train/val/test in-place to keep only selected features + targets\n",
        "keep_cols = selected_features + [c for c in [\"FPS\", \"FPS_yj\"] if c in train_encoded.columns]\n",
        "\n",
        "train_encoded = train_encoded[keep_cols].copy()\n",
        "val_encoded = val_encoded[keep_cols].copy()\n",
        "test_encoded = test_encoded[keep_cols].copy()\n",
        "\n",
        "print(\"\\nDone. New shapes (train/val/test):\", train_encoded.shape, val_encoded.shape, test_encoded.shape)\n",
        "print(\"Kept features:\", selected_features)"
      ],
      "metadata": {
        "trusted": true,
        "execution": {
          "iopub.status.busy": "2025-09-23T13:26:42.271188Z",
          "iopub.execute_input": "2025-09-23T13:26:42.271777Z",
          "iopub.status.idle": "2025-09-23T13:26:42.385687Z",
          "shell.execute_reply.started": "2025-09-23T13:26:42.271751Z",
          "shell.execute_reply": "2025-09-23T13:26:42.38478Z"
        },
        "id": "Od3NYZlAsOPC",
        "outputId": "407b6e08-16bc-4035-eeec-53807f383002"
      },
      "outputs": [
        {
          "name": "stdout",
          "text": "\nDone. New shapes (train/val/test): (191624, 22) (114975, 22) (76650, 22)\nKept features: ['GameName', 'CpuName', 'GpuName', 'GameSetting', 'GPU_memory_speed', 'GameResolution', 'Cache_GPU_ratio', 'CPU_GPU_balance', 'CpuTurboClock', 'GpuBaseClock', 'CPU_throughput_turbo', 'CPU_parallel_power', 'CPU_efficiency', 'CpuMultiplier', 'CpuFrequency', 'GpuDieSize', 'GpuBandwidth', 'GPU_mem_throughput', 'CpuTDP', 'Dataset']\n",
          "output_type": "stream"
        }
      ],
      "execution_count": null
    },
    {
      "cell_type": "code",
      "source": [
        "# choose target column (use transformed target for training)\n",
        "y_col = \"FPS_yj\"   # change to \"FPS\" if you want to operate on original scale instead\n",
        "\n",
        "# Prepare X, y from existing splits\n",
        "drop_targets = [c for c in [\"FPS\", \"FPS_yj\"] if c in train_data.columns]\n",
        "X_train = train_encoded.drop(columns=drop_targets)\n",
        "y_train = train_encoded[y_col]\n",
        "\n",
        "X_val = val_encoded.drop(columns=drop_targets)\n",
        "y_val = val_encoded[y_col]\n",
        "\n",
        "X_test = test_encoded.drop(columns=drop_targets)\n",
        "y_test = test_encoded[y_col]\n"
      ],
      "metadata": {
        "trusted": true,
        "execution": {
          "iopub.status.busy": "2025-09-23T13:26:42.386714Z",
          "iopub.execute_input": "2025-09-23T13:26:42.38702Z",
          "iopub.status.idle": "2025-09-23T13:26:42.414755Z",
          "shell.execute_reply.started": "2025-09-23T13:26:42.386999Z",
          "shell.execute_reply": "2025-09-23T13:26:42.413964Z"
        },
        "id": "F-o2yEOGsOPC"
      },
      "outputs": [],
      "execution_count": null
    },
    {
      "cell_type": "code",
      "source": [
        "y_train"
      ],
      "metadata": {
        "trusted": true,
        "execution": {
          "iopub.status.busy": "2025-09-23T13:26:42.41563Z",
          "iopub.execute_input": "2025-09-23T13:26:42.41595Z",
          "iopub.status.idle": "2025-09-23T13:26:42.422438Z",
          "shell.execute_reply.started": "2025-09-23T13:26:42.415924Z",
          "shell.execute_reply": "2025-09-23T13:26:42.42171Z"
        },
        "id": "nsWxScDRsOPC",
        "outputId": "c99fe994-7f29-45bd-a50f-aef278e0d5e5"
      },
      "outputs": [
        {
          "execution_count": 43,
          "output_type": "execute_result",
          "data": {
            "text/plain": "239244   -0.971097\n288979    1.487369\n203188   -0.255155\n22891    -0.778572\n45769    -1.186076\n            ...   \n259178    0.104452\n365838    0.647968\n131932    1.629983\n146867    0.223059\n121958   -1.720975\nName: FPS_yj, Length: 191624, dtype: float64"
          },
          "metadata": {}
        }
      ],
      "execution_count": null
    },
    {
      "cell_type": "code",
      "source": [
        "import numpy as np\n",
        "import pandas as pd\n",
        "from sklearn.metrics import mean_squared_error, mean_absolute_error, r2_score\n",
        "from sklearn.linear_model import ElasticNet\n",
        "from sklearn.ensemble import RandomForestRegressor, HistGradientBoostingRegressor\n",
        "\n",
        "# Optional libraries\n",
        "from xgboost import XGBRegressor\n",
        "from lightgbm import LGBMRegressor\n",
        "from catboost import CatBoostRegressor\n",
        "\n",
        "def evaluate_model(model, X_train, y_train, X_val, y_val, model_name):\n",
        "    model.fit(X_train, y_train)\n",
        "    preds = model.predict(X_val)\n",
        "    rmse = np.sqrt(mean_squared_error(y_val, preds))\n",
        "    mae = mean_absolute_error(y_val, preds)\n",
        "    r2 = r2_score(y_val, preds)\n",
        "    return {\"Model\": model_name, \"RMSE\": rmse, \"MAE\": mae, \"R2\": r2}\n",
        "\n",
        "# Candidate models\n",
        "models = [\n",
        "    (\"ElasticNet\", ElasticNet(alpha=0.1, l1_ratio=0.5, random_state=42)),\n",
        "    (\"RandomForest\", RandomForestRegressor(n_estimators=300, n_jobs=-1, random_state=42)),\n",
        "    (\"HistGBM\", HistGradientBoostingRegressor(max_iter=300, random_state=42)),\n",
        "    (\"XGBoost\", XGBRegressor(n_estimators=300, learning_rate=0.05, max_depth=6,\n",
        "                             subsample=0.8, colsample_bytree=0.8, random_state=42, n_jobs=-1)),\n",
        "    (\"LightGBM\", LGBMRegressor(n_estimators=300, learning_rate=0.05,\n",
        "                               num_leaves=31, random_state=42, n_jobs=-1)),\n",
        "    (\"CatBoost\", CatBoostRegressor(iterations=300, learning_rate=0.05,\n",
        "                                   depth=6, random_state=42, verbose=0))\n",
        "]\n",
        "\n",
        "results = []\n",
        "for name, model in models:\n",
        "    try:\n",
        "        res = evaluate_model(model, X_train, y_train, X_val, y_val, name)\n",
        "        results.append(res)\n",
        "    except Exception as e:\n",
        "        print(f\"⚠️ Skipping {name} due to error: {e}\")\n",
        "\n",
        "# Compare results\n",
        "results_df = pd.DataFrame(results).sort_values(by=\"RMSE\")\n",
        "print(results_df)\n"
      ],
      "metadata": {
        "trusted": true,
        "execution": {
          "iopub.status.busy": "2025-09-23T13:26:42.423385Z",
          "iopub.execute_input": "2025-09-23T13:26:42.42366Z",
          "execution_failed": "2025-09-23T16:08:04.001Z"
        },
        "id": "o8ZDqyujsOPD",
        "outputId": "2989515d-86a6-40d2-cd55-a3a2973f200c"
      },
      "outputs": [
        {
          "name": "stderr",
          "text": "/usr/local/lib/python3.11/dist-packages/sklearn/linear_model/_coordinate_descent.py:631: ConvergenceWarning: Objective did not converge. You might want to increase the number of iterations, check the scale of the features or consider increasing regularisation. Duality gap: 2.060e+02, tolerance: 1.919e+01\n  model = cd_fast.enet_coordinate_descent(\n",
          "output_type": "stream"
        }
      ],
      "execution_count": null
    },
    {
      "cell_type": "code",
      "source": [
        "from sklearn.linear_model import Ridge\n",
        "from sklearn.ensemble import VotingRegressor, StackingRegressor\n",
        "\n",
        "# ---------------- Ensembling ----------------\n",
        "# 1. Voting Ensemble (simple average of all base models)\n",
        "voting_ensemble = VotingRegressor(estimators=models)\n",
        "\n",
        "# 2. Stacking Ensemble (meta-learner learns best combination of base models)\n",
        "stacking_ensemble = StackingRegressor(\n",
        "    estimators=models,\n",
        "    final_estimator=Ridge(alpha=1.0),  # meta-learner\n",
        "    n_jobs=-1\n",
        ")\n",
        "\n",
        "ensemble_models = [\n",
        "    (\"VotingEnsemble\", voting_ensemble),\n",
        "    (\"StackingEnsemble\", stacking_ensemble)\n",
        "]\n",
        "\n",
        "for name, model in ensemble_models:\n",
        "    try:\n",
        "        res = evaluate_model(model, X_train, y_train, X_val, y_val, name)\n",
        "        results.append(res)\n",
        "    except Exception as e:\n",
        "        print(f\"⚠️ Skipping {name} due to error: {e}\")\n",
        "\n",
        "# ---------------- Compare All Results ----------------\n",
        "results_df = pd.DataFrame(results).sort_values(by=\"RMSE\")\n",
        "print(results_df)"
      ],
      "metadata": {
        "trusted": true,
        "execution": {
          "iopub.status.idle": "2025-09-23T13:48:05.381116Z",
          "shell.execute_reply.started": "2025-09-23T13:29:15.072726Z",
          "shell.execute_reply": "2025-09-23T13:48:05.380128Z"
        },
        "id": "_9tayoVdsOPD",
        "outputId": "da3fbbd1-d93a-49d9-f114-dfdebb3e26d0"
      },
      "outputs": [
        {
          "name": "stdout",
          "text": "[LightGBM] [Info] Auto-choosing col-wise multi-threading, the overhead of testing was 0.020680 seconds.\nYou can set `force_col_wise=true` to remove the overhead.\n[LightGBM] [Info] Total Bins 1842\n[LightGBM] [Info] Number of data points in the train set: 191624, number of used features: 20\n[LightGBM] [Info] Start training from score 0.000393\n",
          "output_type": "stream"
        },
        {
          "name": "stderr",
          "text": "/usr/local/lib/python3.11/dist-packages/sklearn/linear_model/_coordinate_descent.py:631: ConvergenceWarning: Objective did not converge. You might want to increase the number of iterations, check the scale of the features or consider increasing regularisation. Duality gap: 2.060e+02, tolerance: 1.919e+01\n  model = cd_fast.enet_coordinate_descent(\n/usr/local/lib/python3.11/dist-packages/sklearn/linear_model/_coordinate_descent.py:631: ConvergenceWarning: Objective did not converge. You might want to increase the number of iterations, check the scale of the features or consider increasing regularisation. Duality gap: 1.460e+02, tolerance: 1.538e+01\n  model = cd_fast.enet_coordinate_descent(\n/usr/local/lib/python3.11/dist-packages/sklearn/linear_model/_coordinate_descent.py:631: ConvergenceWarning: Objective did not converge. You might want to increase the number of iterations, check the scale of the features or consider increasing regularisation. Duality gap: 1.964e+02, tolerance: 1.537e+01\n  model = cd_fast.enet_coordinate_descent(\n/usr/local/lib/python3.11/dist-packages/sklearn/linear_model/_coordinate_descent.py:631: ConvergenceWarning: Objective did not converge. You might want to increase the number of iterations, check the scale of the features or consider increasing regularisation. Duality gap: 1.311e+02, tolerance: 1.533e+01\n  model = cd_fast.enet_coordinate_descent(\n/usr/local/lib/python3.11/dist-packages/sklearn/linear_model/_coordinate_descent.py:631: ConvergenceWarning: Objective did not converge. You might want to increase the number of iterations, check the scale of the features or consider increasing regularisation. Duality gap: 1.540e+02, tolerance: 1.536e+01\n  model = cd_fast.enet_coordinate_descent(\n",
          "output_type": "stream"
        },
        {
          "name": "stdout",
          "text": "[LightGBM] [Info] Auto-choosing col-wise multi-threading, the overhead of testing was 0.076939 seconds.\nYou can set `force_col_wise=true` to remove the overhead.\n[LightGBM] [Info] Total Bins 1822\n[LightGBM] [Info] Number of data points in the train set: 153299, number of used features: 20\n[LightGBM] [Info] Start training from score 0.000334\n[LightGBM] [Info] Auto-choosing col-wise multi-threading, the overhead of testing was 0.078014 seconds.\nYou can set `force_col_wise=true` to remove the overhead.\n[LightGBM] [Info] Total Bins 1824\n[LightGBM] [Info] Number of data points in the train set: 153299, number of used features: 20\n[LightGBM] [Info] Start training from score 0.000659\n[LightGBM] [Info] Auto-choosing col-wise multi-threading, the overhead of testing was 0.092562 seconds.\nYou can set `force_col_wise=true` to remove the overhead.\n[LightGBM] [Info] Total Bins 1823\n[LightGBM] [Info] Number of data points in the train set: 153299, number of used features: 20\n[LightGBM] [Info] Start training from score -0.001454\n[LightGBM] [Info] Auto-choosing row-wise multi-threading, the overhead of testing was 0.032990 seconds.\nYou can set `force_row_wise=true` to remove the overhead.\nAnd if memory is not enough, you can set `force_col_wise=true`.\n[LightGBM] [Info] Total Bins 1819\n[LightGBM] [Info] Number of data points in the train set: 153299, number of used features: 20\n[LightGBM] [Info] Start training from score 0.002427\n[LightGBM] [Info] Auto-choosing row-wise multi-threading, the overhead of testing was 0.134426 seconds.\nYou can set `force_row_wise=true` to remove the overhead.\nAnd if memory is not enough, you can set `force_col_wise=true`.\n[LightGBM] [Info] Total Bins 1842\n[LightGBM] [Info] Number of data points in the train set: 191624, number of used features: 20\n[LightGBM] [Info] Start training from score 0.000393\n",
          "output_type": "stream"
        },
        {
          "name": "stderr",
          "text": "/usr/local/lib/python3.11/dist-packages/sklearn/linear_model/_coordinate_descent.py:631: ConvergenceWarning: Objective did not converge. You might want to increase the number of iterations, check the scale of the features or consider increasing regularisation. Duality gap: 2.095e+02, tolerance: 1.533e+01\n  model = cd_fast.enet_coordinate_descent(\n/usr/local/lib/python3.11/dist-packages/joblib/externals/loky/process_executor.py:782: UserWarning: A worker stopped while some jobs were given to the executor. This can be caused by a too short worker timeout or by a memory leak.\n  warnings.warn(\n",
          "output_type": "stream"
        },
        {
          "name": "stdout",
          "text": "[LightGBM] [Info] Auto-choosing row-wise multi-threading, the overhead of testing was 0.073619 seconds.\nYou can set `force_row_wise=true` to remove the overhead.\nAnd if memory is not enough, you can set `force_col_wise=true`.\n[LightGBM] [Info] Total Bins 1814\n[LightGBM] [Info] Number of data points in the train set: 153300, number of used features: 20\n[LightGBM] [Info] Start training from score 0.000000\n              Model      RMSE       MAE        R2\n2           HistGBM  0.553913  0.380270  0.693544\n4          LightGBM  0.553948  0.380284  0.693505\n6    VotingEnsemble  0.557947  0.384635  0.689064\n5          CatBoost  0.558874  0.385766  0.688031\n7  StackingEnsemble  0.560919  0.387716  0.685744\n1      RandomForest  0.571636  0.393054  0.673620\n0        ElasticNet  0.629795  0.453707  0.603829\n3           XGBoost  0.634030  0.450656  0.598483\n",
          "output_type": "stream"
        }
      ],
      "execution_count": null
    },
    {
      "cell_type": "code",
      "source": [
        "# ---------------- Evaluate All Models on Test Data ----------------\n",
        "test_results = []\n",
        "\n",
        "# Evaluate base models again (already trained in results loop, but we re-fit on full train here)\n",
        "for name, model in models + ensemble_models:\n",
        "    try:\n",
        "        # Train on full training data\n",
        "        model.fit(X_train, y_train)\n",
        "        preds = model.predict(X_test)\n",
        "\n",
        "        rmse = np.sqrt(mean_squared_error(y_test, preds))\n",
        "        mae = mean_absolute_error(y_test, preds)\n",
        "        r2 = r2_score(y_test, preds)\n",
        "\n",
        "        test_results.append({\"Model\": name, \"RMSE\": rmse, \"MAE\": mae, \"R2\": r2})\n",
        "    except Exception as e:\n",
        "        print(f\"⚠️ Skipping {name} on test data due to error: {e}\")\n",
        "\n",
        "# Compare results\n",
        "test_results_df = pd.DataFrame(test_results).sort_values(by=\"RMSE\")\n",
        "print(\"\\n📊 Final Test Performance:\\n\", test_results_df)\n"
      ],
      "metadata": {
        "trusted": true,
        "execution": {
          "iopub.status.busy": "2025-09-23T14:31:47.290374Z",
          "iopub.execute_input": "2025-09-23T14:31:47.290698Z",
          "iopub.status.idle": "2025-09-23T14:53:13.673551Z",
          "shell.execute_reply.started": "2025-09-23T14:31:47.290663Z",
          "shell.execute_reply": "2025-09-23T14:53:13.67269Z"
        },
        "id": "hZ7V0tUpsOPD",
        "outputId": "d4a5e4e5-fdf3-4f80-bd4c-9ded4a84520e"
      },
      "outputs": [
        {
          "name": "stderr",
          "text": "/usr/local/lib/python3.11/dist-packages/sklearn/linear_model/_coordinate_descent.py:631: ConvergenceWarning: Objective did not converge. You might want to increase the number of iterations, check the scale of the features or consider increasing regularisation. Duality gap: 2.060e+02, tolerance: 1.919e+01\n  model = cd_fast.enet_coordinate_descent(\n",
          "output_type": "stream"
        },
        {
          "name": "stdout",
          "text": "[LightGBM] [Info] Auto-choosing row-wise multi-threading, the overhead of testing was 0.009584 seconds.\nYou can set `force_row_wise=true` to remove the overhead.\nAnd if memory is not enough, you can set `force_col_wise=true`.\n[LightGBM] [Info] Total Bins 1842\n[LightGBM] [Info] Number of data points in the train set: 191624, number of used features: 20\n[LightGBM] [Info] Start training from score 0.000393\n",
          "output_type": "stream"
        },
        {
          "name": "stderr",
          "text": "/usr/local/lib/python3.11/dist-packages/sklearn/linear_model/_coordinate_descent.py:631: ConvergenceWarning: Objective did not converge. You might want to increase the number of iterations, check the scale of the features or consider increasing regularisation. Duality gap: 2.060e+02, tolerance: 1.919e+01\n  model = cd_fast.enet_coordinate_descent(\n",
          "output_type": "stream"
        },
        {
          "name": "stdout",
          "text": "[LightGBM] [Info] Auto-choosing row-wise multi-threading, the overhead of testing was 0.008857 seconds.\nYou can set `force_row_wise=true` to remove the overhead.\nAnd if memory is not enough, you can set `force_col_wise=true`.\n[LightGBM] [Info] Total Bins 1842\n[LightGBM] [Info] Number of data points in the train set: 191624, number of used features: 20\n[LightGBM] [Info] Start training from score 0.000393\n",
          "output_type": "stream"
        },
        {
          "name": "stderr",
          "text": "/usr/local/lib/python3.11/dist-packages/sklearn/linear_model/_coordinate_descent.py:631: ConvergenceWarning: Objective did not converge. You might want to increase the number of iterations, check the scale of the features or consider increasing regularisation. Duality gap: 2.060e+02, tolerance: 1.919e+01\n  model = cd_fast.enet_coordinate_descent(\n/usr/local/lib/python3.11/dist-packages/sklearn/linear_model/_coordinate_descent.py:631: ConvergenceWarning: Objective did not converge. You might want to increase the number of iterations, check the scale of the features or consider increasing regularisation. Duality gap: 1.540e+02, tolerance: 1.536e+01\n  model = cd_fast.enet_coordinate_descent(\n/usr/local/lib/python3.11/dist-packages/sklearn/linear_model/_coordinate_descent.py:631: ConvergenceWarning: Objective did not converge. You might want to increase the number of iterations, check the scale of the features or consider increasing regularisation. Duality gap: 1.964e+02, tolerance: 1.537e+01\n  model = cd_fast.enet_coordinate_descent(\n/usr/local/lib/python3.11/dist-packages/sklearn/linear_model/_coordinate_descent.py:631: ConvergenceWarning: Objective did not converge. You might want to increase the number of iterations, check the scale of the features or consider increasing regularisation. Duality gap: 1.311e+02, tolerance: 1.533e+01\n  model = cd_fast.enet_coordinate_descent(\n/usr/local/lib/python3.11/dist-packages/sklearn/linear_model/_coordinate_descent.py:631: ConvergenceWarning: Objective did not converge. You might want to increase the number of iterations, check the scale of the features or consider increasing regularisation. Duality gap: 1.460e+02, tolerance: 1.538e+01\n  model = cd_fast.enet_coordinate_descent(\n/usr/local/lib/python3.11/dist-packages/sklearn/linear_model/_coordinate_descent.py:631: ConvergenceWarning: Objective did not converge. You might want to increase the number of iterations, check the scale of the features or consider increasing regularisation. Duality gap: 2.095e+02, tolerance: 1.533e+01\n  model = cd_fast.enet_coordinate_descent(\n",
          "output_type": "stream"
        },
        {
          "name": "stdout",
          "text": "[LightGBM] [Info] Auto-choosing row-wise multi-threading, the overhead of testing was 0.086464 seconds.\nYou can set `force_row_wise=true` to remove the overhead.\nAnd if memory is not enough, you can set `force_col_wise=true`.\n[LightGBM] [Info] Total Bins 1824\n[LightGBM] [Info] Number of data points in the train set: 153299, number of used features: 20\n[LightGBM] [Info] Start training from score 0.000659\n[LightGBM] [Info] Auto-choosing row-wise multi-threading, the overhead of testing was 0.064637 seconds.\nYou can set `force_row_wise=true` to remove the overhead.\nAnd if memory is not enough, you can set `force_col_wise=true`.\n[LightGBM] [Info] Total Bins 1822\n[LightGBM] [Info] Number of data points in the train set: 153299, number of used features: 20\n[LightGBM] [Info] Start training from score 0.000334\n[LightGBM] [Info] Auto-choosing row-wise multi-threading, the overhead of testing was 0.058108 seconds.\nYou can set `force_row_wise=true` to remove the overhead.\nAnd if memory is not enough, you can set `force_col_wise=true`.\n[LightGBM] [Info] Total Bins 1823\n[LightGBM] [Info] Number of data points in the train set: 153299, number of used features: 20\n[LightGBM] [Info] Start training from score -0.001454\n[LightGBM] [Info] Auto-choosing col-wise multi-threading, the overhead of testing was 0.107409 seconds.\nYou can set `force_col_wise=true` to remove the overhead.\n[LightGBM] [Info] Total Bins 1819\n[LightGBM] [Info] Number of data points in the train set: 153299, number of used features: 20\n[LightGBM] [Info] Start training from score 0.002427\n[LightGBM] [Info] Auto-choosing row-wise multi-threading, the overhead of testing was 0.144013 seconds.\nYou can set `force_row_wise=true` to remove the overhead.\nAnd if memory is not enough, you can set `force_col_wise=true`.\n[LightGBM] [Info] Total Bins 1842\n[LightGBM] [Info] Number of data points in the train set: 191624, number of used features: 20\n[LightGBM] [Info] Start training from score 0.000393\n[LightGBM] [Info] Auto-choosing row-wise multi-threading, the overhead of testing was 0.039545 seconds.\nYou can set `force_row_wise=true` to remove the overhead.\nAnd if memory is not enough, you can set `force_col_wise=true`.\n[LightGBM] [Info] Total Bins 1814\n[LightGBM] [Info] Number of data points in the train set: 153300, number of used features: 20\n[LightGBM] [Info] Start training from score 0.000000\n\n📊 Final Test Performance:\n               Model      RMSE       MAE        R2\n4          LightGBM  0.553511  0.387378  0.691943\n2           HistGBM  0.555070  0.388569  0.690204\n5          CatBoost  0.555679  0.388528  0.689525\n6    VotingEnsemble  0.559833  0.393718  0.684865\n7  StackingEnsemble  0.570703  0.406613  0.672509\n1      RandomForest  0.575559  0.404869  0.666912\n0        ElasticNet  0.626500  0.454038  0.605342\n3           XGBoost  0.690732  0.513063  0.520268\n",
          "output_type": "stream"
        }
      ],
      "execution_count": null
    }
  ]
}